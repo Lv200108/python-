{
 "cells": [
  {
   "cell_type": "markdown",
   "metadata": {},
   "source": [
    "#    Scikit-learn分类"
   ]
  },
  {
   "cell_type": "markdown",
   "metadata": {},
   "source": [
    "#    例1：digit分类"
   ]
  },
  {
   "cell_type": "code",
   "execution_count": 1,
   "metadata": {},
   "outputs": [
    {
     "name": "stderr",
     "output_type": "stream",
     "text": [
      "D:\\anaconda\\lib\\site-packages\\sklearn\\feature_extraction\\image.py:167: DeprecationWarning: `np.int` is a deprecated alias for the builtin `int`. To silence this warning, use `int` by itself. Doing this will not modify any behavior and is safe. When replacing `np.int`, you may wish to use e.g. `np.int64` or `np.int32` to specify the precision. If you wish to review your current use, check the release note link for additional information.\n",
      "Deprecated in NumPy 1.20; for more details and guidance: https://numpy.org/devdocs/release/1.20.0-notes.html#deprecations\n",
      "  dtype=np.int):\n"
     ]
    }
   ],
   "source": [
    "###不显示警告信息\n",
    "import warnings\n",
    "warnings.filterwarnings(\"ignore\")\n",
    "\n",
    "%matplotlib inline\n",
    "import matplotlib.pyplot as plt\n",
    "import numpy as np\n",
    "from sklearn import datasets"
   ]
  },
  {
   "cell_type": "code",
   "execution_count": 2,
   "metadata": {},
   "outputs": [
    {
     "name": "stderr",
     "output_type": "stream",
     "text": [
      "D:\\anaconda\\lib\\site-packages\\sklearn\\datasets\\base.py:550: DeprecationWarning: `np.int` is a deprecated alias for the builtin `int`. To silence this warning, use `int` by itself. Doing this will not modify any behavior and is safe. When replacing `np.int`, you may wish to use e.g. `np.int64` or `np.int32` to specify the precision. If you wish to review your current use, check the release note link for additional information.\n",
      "Deprecated in NumPy 1.20; for more details and guidance: https://numpy.org/devdocs/release/1.20.0-notes.html#deprecations\n",
      "  target = data[:, -1].astype(np.int)\n"
     ]
    }
   ],
   "source": [
    "digits = datasets.load_digits() # 加载数据"
   ]
  },
  {
   "cell_type": "code",
   "execution_count": 3,
   "metadata": {},
   "outputs": [
    {
     "data": {
      "image/png": "[encoded data removed]",
      "text/plain": [
       "<Figure size 576x432 with 8 Axes>"
      ]
     },
     "metadata": {
      "needs_background": "light"
     },
     "output_type": "display_data"
    }
   ],
   "source": [
    "# 把数据所代表的图片显示出来\n",
    "#for index, (image, label) in enumerate(images_and_labels[8:16]):\n",
    "images_and_labels = list(zip(digits.images, digits.target))\n",
    "plt.figure(figsize=(8, 6))\n",
    "for index, (image, label) in enumerate(images_and_labels[20:28]):\n",
    "    plt.subplot(2, 4, index + 1)\n",
    "    plt.axis('off')\n",
    "    plt.imshow(image, cmap=plt.cm.gray_r, interpolation='nearest')\n",
    "    plt.title('Digit: %i' % label, fontsize=20);"
   ]
  },
  {
   "cell_type": "code",
   "execution_count": 6,
   "metadata": {},
   "outputs": [
    {
     "data": {
      "image/png": "[encoded data removed]",
      "text/plain": [
       "<Figure size 576x432 with 8 Axes>"
      ]
     },
     "metadata": {
      "needs_background": "light"
     },
     "output_type": "display_data"
    }
   ],
   "source": [
    "# 把数据所代表的图片显示出来\n",
    "#for index, (image, label) in enumerate(images_and_labels[8:16]):\n",
    "s1=100;\n",
    "s2=s1+8;\n",
    "images_and_labels = list(zip(digits.images, digits.target))\n",
    "plt.figure(figsize=(8, 6))\n",
    "for index, (image, label) in enumerate(images_and_labels[s1:s2]):\n",
    "    plt.subplot(2, 4, index + 1)\n",
    "    plt.axis('off')\n",
    "    plt.imshow(image, cmap=plt.cm.gray_r, interpolation='nearest')\n",
    "    plt.title('Digit: %i' % label, fontsize=20);"
   ]
  },
  {
   "cell_type": "code",
   "execution_count": 7,
   "metadata": {},
   "outputs": [
    {
     "name": "stdout",
     "output_type": "stream",
     "text": [
      "shape of raw image data: (1797, 8, 8)\n",
      "shape of data: (1797, 64)\n"
     ]
    }
   ],
   "source": [
    "#在进行机器学习时，需要把数据保存为样本个数*特征个数格式的array对象，手写数字识别，scikit-learn保存在digits.data数据里。\n",
    "print(\"shape of raw image data: {0}\".format(digits.images.shape))\n",
    "print(\"shape of data: {0}\".format(digits.data.shape))"
   ]
  },
  {
   "cell_type": "markdown",
   "metadata": {},
   "source": [
    "总共有1797个训练样本，其中原始的数据是8*8的图片，而用来训练的数据是把图片的64个象素点都转换为特征。"
   ]
  },
  {
   "cell_type": "markdown",
   "metadata": {},
   "source": [
    "#    模型选择\n",
    "不同的机器学习算法模型针对特定的机器学习应用有不同的效率，这里使用支持向量机作为手写识别算法的模型。"
   ]
  },
  {
   "cell_type": "markdown",
   "metadata": {},
   "source": [
    "模型训练\n",
    "在开始训练模型之前，需要先把数据集分成训练数据集和测试数据集。\n",
    "下面代码把数据集分出20%作为测试数据集。"
   ]
  },
  {
   "cell_type": "code",
   "execution_count": 8,
   "metadata": {},
   "outputs": [],
   "source": [
    "# 把数据分成训练数据集和测试数据集\n",
    "from sklearn.model_selection import train_test_split\n",
    "Xtrain, Xtest, Ytrain, Ytest = train_test_split(digits.data, digits.target, test_size=0.20, random_state=2);\n",
    "#X_train,X_test, y_train, y_test =train_test_split(train_data,train_target,test_size=0.25, random_state=0,stratify=y)\n",
    "# train_data：所要划分的样本特征集\n",
    "# train_target：所要划分的样本结果\n",
    "# test_size：样本占比，如果是整数的话就是样本的数量\n",
    "# random_state：是随机数的种子。\n",
    "# 随机数种子：其实就是该组随机数的编号，在需要重复试验的时候，保证得到一组一样的随机数。比如你每次都填1，其他参数一样的情况下你得到的随机数组是一样的。但填0或不填，每次都会不一样\n"
   ]
  },
  {
   "cell_type": "code",
   "execution_count": 9,
   "metadata": {},
   "outputs": [
    {
     "data": {
      "text/plain": [
       "(1437, 64)"
      ]
     },
     "execution_count": 9,
     "metadata": {},
     "output_type": "execute_result"
    }
   ],
   "source": [
    "Xtrain.shape"
   ]
  },
  {
   "cell_type": "code",
   "execution_count": 10,
   "metadata": {},
   "outputs": [
    {
     "data": {
      "text/plain": [
       "(1437,)"
      ]
     },
     "execution_count": 10,
     "metadata": {},
     "output_type": "execute_result"
    }
   ],
   "source": [
    "Ytrain.shape"
   ]
  },
  {
   "cell_type": "code",
   "execution_count": 11,
   "metadata": {},
   "outputs": [
    {
     "data": {
      "text/plain": [
       "(360, 64)"
      ]
     },
     "execution_count": 11,
     "metadata": {},
     "output_type": "execute_result"
    }
   ],
   "source": [
    "Xtest.shape"
   ]
  },
  {
   "cell_type": "code",
   "execution_count": 12,
   "metadata": {},
   "outputs": [],
   "source": [
    "###不显示警告信息\n",
    "import warnings\n",
    "warnings.filterwarnings(\"ignore\")"
   ]
  },
  {
   "cell_type": "code",
   "execution_count": 13,
   "metadata": {},
   "outputs": [],
   "source": [
    "# 使用支持向量机来训练模型\n",
    "from sklearn import svm\n",
    "clf = svm.SVC(gamma=0.001, C=100., probability=True)\n",
    "clf.fit(Xtrain, Ytrain);"
   ]
  },
  {
   "cell_type": "markdown",
   "metadata": {},
   "source": [
    "SVM 是一种用于分类和回归的监督学习算法。在分类任务中，SVM 构建一个决策边界，将不同类别的样本分开。SVC 类则实现了标准的支持向量机分类器。\n",
    "\n",
    "在使用SVM进行模型训练时，可以通过调整gamma和C参数来优化模型的性能。gamma参数控制着核函数的宽度，而C是惩罚参数，它决定了模型对误分类的惩罚程度。较小的 C 值会允许更多的错误分类，较大的 C 值会迫使模型更加关注每个样本的分类准确性。\n",
    "\n",
    "实用:gamma和C参数都有一些常用的设置。\n"
   ]
  },
  {
   "cell_type": "markdown",
   "metadata": {},
   "source": [
    "训练完成后，clf对象就会包含我们训练出来 的模型参数，可以使用这个模型对象来进行预测。"
   ]
  },
  {
   "cell_type": "markdown",
   "metadata": {},
   "source": [
    "用训练出来的模型clf预测测试数据集，然后把预测结果Ypred和真正的结果Ytest比较，看有多少个是正确的，这样就能评估出模型的准确度了。\n",
    "Scikit-learn提供了现成的方法来完成这项工作。"
   ]
  },
  {
   "cell_type": "code",
   "execution_count": 14,
   "metadata": {},
   "outputs": [
    {
     "data": {
      "text/plain": [
       "array([4, 0, 9, 1, 8, 7, 1, 5, 1, 6, 6, 7, 6, 1, 5, 5, 8, 6, 2, 7, 4, 6,\n",
       "       4, 1, 5, 2, 9, 5, 4, 6, 5, 6, 3, 4, 0, 9, 9, 8, 4, 6, 8, 8, 5, 7,\n",
       "       9, 8, 9, 6, 1, 3, 0, 1, 9, 7, 3, 3, 1, 1, 8, 8, 9, 8, 5, 8, 4, 7,\n",
       "       3, 5, 8, 4, 3, 1, 3, 8, 7, 3, 3, 0, 8, 7, 2, 8, 5, 3, 8, 7, 6, 4,\n",
       "       6, 2, 2, 0, 1, 1, 5, 3, 5, 7, 6, 8, 2, 2, 6, 4, 6, 7, 3, 7, 3, 9,\n",
       "       4, 7, 0, 3, 5, 1, 5, 0, 3, 9, 2, 7, 3, 2, 0, 8, 1, 9, 2, 1, 5, 1,\n",
       "       0, 3, 4, 3, 0, 8, 3, 2, 2, 7, 3, 1, 6, 7, 2, 8, 3, 1, 1, 6, 4, 8,\n",
       "       2, 1, 8, 4, 1, 3, 1, 1, 9, 5, 4, 9, 7, 4, 8, 9, 5, 7, 6, 9, 0, 0,\n",
       "       4, 0, 0, 4, 0, 6, 5, 8, 8, 3, 7, 9, 2, 0, 3, 2, 7, 3, 0, 2, 1, 5,\n",
       "       2, 7, 0, 6, 9, 3, 1, 1, 3, 5, 2, 3, 5, 2, 1, 2, 9, 4, 6, 5, 5, 5,\n",
       "       9, 7, 1, 5, 9, 6, 3, 7, 1, 7, 5, 1, 7, 2, 7, 5, 5, 4, 8, 6, 6, 2,\n",
       "       8, 7, 3, 7, 8, 0, 9, 5, 7, 4, 3, 4, 1, 0, 3, 3, 5, 4, 1, 3, 1, 2,\n",
       "       5, 1, 4, 0, 3, 1, 5, 5, 7, 4, 0, 1, 0, 8, 5, 5, 5, 4, 0, 1, 8, 6,\n",
       "       2, 1, 1, 1, 7, 9, 6, 7, 9, 7, 0, 4, 9, 6, 9, 2, 7, 2, 1, 0, 8, 2,\n",
       "       8, 6, 5, 7, 8, 4, 5, 7, 8, 6, 5, 2, 6, 9, 3, 0, 0, 8, 0, 6, 6, 7,\n",
       "       1, 4, 5, 6, 9, 7, 2, 8, 5, 1, 2, 4, 1, 8, 8, 7, 6, 0, 8, 0, 6, 5,\n",
       "       5, 7, 8, 0, 4, 1, 4, 5])"
      ]
     },
     "execution_count": 14,
     "metadata": {},
     "output_type": "execute_result"
    }
   ],
   "source": [
    "# 评估模型的准确度\n",
    "from sklearn.metrics import accuracy_score\n",
    "Ypred = clf.predict(Xtest);   #预测标签。\n",
    "Ypred"
   ]
  },
  {
   "cell_type": "code",
   "execution_count": 15,
   "metadata": {},
   "outputs": [
    {
     "data": {
      "text/plain": [
       "0.9777777777777777"
      ]
     },
     "execution_count": 15,
     "metadata": {},
     "output_type": "execute_result"
    }
   ],
   "source": [
    "###比较预测结果和真实标签。\n",
    "accuracy_score(Ytest, Ypred)"
   ]
  },
  {
   "cell_type": "code",
   "execution_count": null,
   "metadata": {},
   "outputs": [],
   "source": [
    "### 在test集上计算平均准确率\n",
    "clf.score(Xtest, Ytest)"
   ]
  },
  {
   "cell_type": "markdown",
   "metadata": {},
   "source": [
    "还可以直接把测试数据集里的部分图片显示出来，并且在图片的左下角显示预测值，右下角显示真实值 。\n",
    "\n",
    "Tips:如何展示实验结果。"
   ]
  },
  {
   "cell_type": "code",
   "execution_count": 16,
   "metadata": {},
   "outputs": [
    {
     "data": {
      "image/png": "[encoded data removed]",
      "text/plain": [
       "<Figure size 576x576 with 16 Axes>"
      ]
     },
     "metadata": {},
     "output_type": "display_data"
    }
   ],
   "source": [
    "# 查看预测的情况\n",
    "fig, axes = plt.subplots(4, 4, figsize=(8, 8))\n",
    "fig.subplots_adjust(hspace=0.1, wspace=0.1)\n",
    "\n",
    "for i, ax in enumerate(axes.flat):\n",
    "    ax.imshow(Xtest[i].reshape(8, 8), cmap=plt.cm.gray_r, interpolation='nearest')\n",
    "    ax.text(0.05, 0.05, str(Ypred[i]), fontsize=32,\n",
    "            transform=ax.transAxes,\n",
    "            color='green' if Ypred[i] == Ytest[i] else 'red')   ##如果预测结果正确，显示绿色；如果不正确，显示红色。\n",
    "    ax.text(0.8, 0.05, str(Ytest[i]), fontsize=32,\n",
    "            transform=ax.transAxes,\n",
    "            color='black')\n",
    "    ax.set_xticks([])\n",
    "    ax.set_yticks([])"
   ]
  },
  {
   "cell_type": "code",
   "execution_count": 17,
   "metadata": {},
   "outputs": [
    {
     "data": {
      "image/png": "[encoded data removed]",
      "text/plain": [
       "<Figure size 576x576 with 40 Axes>"
      ]
     },
     "metadata": {},
     "output_type": "display_data"
    }
   ],
   "source": [
    "######修改上面程序 ，查看更多结果。是由子窗口数目确定\n",
    "# 改为5行6列\n",
    "#fig, axes = plt.subplots(5, 6, figsize=(8, 8))   #\n",
    "#fig, axes = plt.subplots(5, 8, figsize=(8, 8)) \n",
    "fig, axes = plt.subplots(8,5, figsize=(8, 8)) \n",
    "\n",
    "fig.subplots_adjust(hspace=0.1, wspace=0.1)\n",
    "\n",
    "for i, ax in enumerate(axes.flat):   #####控制 \n",
    "    ax.imshow(Xtest[i].reshape(8, 8), cmap=plt.cm.gray_r, interpolation='nearest')\n",
    "    ax.text(0.05, 0.05, str(Ypred[i]), fontsize=32,\n",
    "            transform=ax.transAxes,\n",
    "            color='green' if Ypred[i] == Ytest[i] else 'red')   ##如果预测结果正确，显示绿色；如果不正确，显示红色。\n",
    "    ax.text(0.8, 0.05, str(Ytest[i]), fontsize=32,\n",
    "            transform=ax.transAxes,\n",
    "            color='black')\n",
    "    ax.set_xticks([])\n",
    "    ax.set_yticks([])"
   ]
  },
  {
   "cell_type": "markdown",
   "metadata": {},
   "source": [
    "#   例2：IRIS数据分类"
   ]
  },
  {
   "cell_type": "markdown",
   "metadata": {},
   "source": [
    "通过以下代码展示了Scikit-Learn包的K近邻算法如何对于IRIS数据集进行分类及分类预测结果\n",
    "\n",
    "有了前面的基础，再看这个例子就简单许多。"
   ]
  },
  {
   "cell_type": "code",
   "execution_count": 18,
   "metadata": {},
   "outputs": [
    {
     "name": "stdout",
     "output_type": "stream",
     "text": [
      "预测准确率: 0.9777777777777777\n"
     ]
    }
   ],
   "source": [
    "###### 导入所需要的工具包\n",
    "import matplotlib.pyplot as plt\n",
    "import numpy as np\n",
    "from sklearn.datasets import load_iris\n",
    "#train_test_split函数可按照设定的比例，随机将样本集合划分为训练集和测试集，并返回划分好的训练集和测试集数据\n",
    "from sklearn.model_selection import train_test_split\n",
    "\n",
    "#加载IRIS数据集\n",
    "IRIS = load_iris()\n",
    "#X:待划分的样本特征集合;y:待划分的样本标签;test_size:若在0~1之间，为测试集样本数目与原始样本数目之比；若为整数，则是测试集样本的数目。random_state:随机数种子\n",
    "#X_train, X_test, y_train, y_test = train_test_split(IRIS['data'], IRIS['target'], random_state=0)\n",
    "#默认训练集0.75，测试集0.25\n",
    "X_train, X_test, y_train, y_test = train_test_split(IRIS['data'], IRIS['target'],test_size=0.3, random_state=0)\n",
    "#改变testsize的值0.3；  还可以  0.2,0.3,0.35,0.4，0.5  观察准确率的变化 \n",
    "\n",
    "\n",
    "#导入sklearn中k近邻分类模型\n",
    "from sklearn.neighbors import KNeighborsClassifier\n",
    "#n_neighbors：knn算法中指定以最近的几个最近邻样本具有投票权，默认参数为5\n",
    "knn = KNeighborsClassifier(n_neighbors=5)\n",
    "#训练模型\n",
    "knn.fit(X_train, y_train)\n",
    "\n",
    "#进行预测\n",
    "y_pred = knn.predict(X_test)\n",
    "#输出准确率\n",
    "##print ('预测准确率:',knn.score(, y_test))\n",
    "print ('预测准确率:',knn.score(X_test, y_test))"
   ]
  },
  {
   "cell_type": "markdown",
   "metadata": {},
   "source": [
    "###    使用其它分类模型"
   ]
  },
  {
   "cell_type": "markdown",
   "metadata": {},
   "source": [
    "通过以下代码展示了Scikit-Learn包的朴素贝叶斯算法如何对于IRIS数据集进行分类及分类预测结果"
   ]
  },
  {
   "cell_type": "code",
   "execution_count": 19,
   "metadata": {},
   "outputs": [
    {
     "name": "stdout",
     "output_type": "stream",
     "text": [
      "预测准确率: 1.0\n"
     ]
    }
   ],
   "source": [
    "#导入所需要的工具包\n",
    "import matplotlib.pyplot as plt\n",
    "import numpy as np\n",
    "from sklearn.datasets import load_iris\n",
    "#train_test_split函数可按照设定的比例，随机将样本集合划分为训练集和测试集，并返回划分好的训练集和测试集数据\n",
    "from sklearn.model_selection import train_test_split\n",
    "\n",
    "#加载IRIS数据集\n",
    "IRIS = load_iris()\n",
    "#X:待划分的样本特征集合;y:待划分的样本标签;test_size:若在0~1之间，为测试集样本数目与原始样本数目之比；若为整数，则是测试集样本的数目。random_state:随机数种子\n",
    "X_train, X_test, y_train, y_test = train_test_split(IRIS['data'], IRIS['target'], random_state=0)\n",
    "\n",
    "#导入sklearn中朴素贝叶斯方法\n",
    "from sklearn.naive_bayes import GaussianNB                  \n",
    "#初始化模型\n",
    "GNB = GaussianNB()                                     \n",
    "#训练模型\n",
    "GNB.fit(X_train, y_train)\n",
    "\n",
    "#进行预测\n",
    "y_pred = GNB.predict(X_test)\n",
    "#输出准确率\n",
    "print ('预测准确率:',GNB.score(X_test, y_test))"
   ]
  },
  {
   "cell_type": "markdown",
   "metadata": {},
   "source": [
    "从上面可以看出，改变一个模型非常方便。"
   ]
  },
  {
   "cell_type": "markdown",
   "metadata": {},
   "source": [
    "通过以下代码展示了Scikit-Learn包的决策树算法如何对于IRIS数据集进行分类及分类预测结果"
   ]
  },
  {
   "cell_type": "code",
   "execution_count": 20,
   "metadata": {},
   "outputs": [
    {
     "name": "stdout",
     "output_type": "stream",
     "text": [
      "预测准确率: 0.9736842105263158\n"
     ]
    }
   ],
   "source": [
    "#导入所需要的工具包\n",
    "import matplotlib.pyplot as plt\n",
    "import numpy as np\n",
    "from sklearn.datasets import load_iris\n",
    "#train_test_split函数可按照设定的比例，随机将样本集合划分为训练集和测试集，并返回划分好的训练集和测试集数据\n",
    "from sklearn.model_selection import train_test_split\n",
    "\n",
    "#加载IRIS数据集\n",
    "IRIS = load_iris()\n",
    "#X:待划分的样本特征集合;y:待划分的样本标签;test_size:若在0~1之间，为测试集样本数目与原始样本数目之比；若为整数，则是测试集样本的数目。random_state:随机数种子\n",
    "X_train, X_test, y_train, y_test = train_test_split(IRIS['data'], IRIS['target'], random_state=0)\n",
    "\n",
    "######################################33\n",
    "#导入sklearn中决策树方法\n",
    "from sklearn import tree\n",
    "#导入决策树DTC包\n",
    "from sklearn.tree import DecisionTreeClassifier                \n",
    "#初始化模型\n",
    "DTREE = DecisionTreeClassifier()                                        \n",
    "#训练模型\n",
    "DTREE.fit(X_train, y_train)\n",
    "\n",
    "#进行预测\n",
    "y_pred = DTREE.predict(X_test)\n",
    "#输出准确率\n",
    "print ('预测准确率:',DTREE.score(X_test, y_test))"
   ]
  }
 ],
 "metadata": {
  "kernelspec": {
   "display_name": "Python 3",
   "language": "python",
   "name": "python3"
  },
  "language_info": {
   "codemirror_mode": {
    "name": "ipython",
    "version": 3
   },
   "file_extension": ".py",
   "mimetype": "text/x-python",
   "name": "python",
   "nbconvert_exporter": "python",
   "pygments_lexer": "ipython3",
   "version": "3.7.3"
  }
 },
 "nbformat": 4,
 "nbformat_minor": 4
}

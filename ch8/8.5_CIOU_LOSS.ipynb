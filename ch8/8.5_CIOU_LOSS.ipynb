{
 "cells": [
  {
   "cell_type": "markdown",
   "metadata": {},
   "source": [
    "说明：运行后弹出窗口。"
   ]
  },
  {
   "cell_type": "code",
   "execution_count": 1,
   "metadata": {},
   "outputs": [],
   "source": [
    "import torch\n",
    "import math\n",
    "import numpy as  np\n",
    "import cv2"
   ]
  },
  {
   "cell_type": "code",
   "execution_count": 2,
   "metadata": {},
   "outputs": [],
   "source": [
    "#### CIOU_loss\n",
    "def box_ciou(b1, b2):\n",
    "    \"\"\"\n",
    "    输入为：\n",
    "    ----------\n",
    "    b1: tensor, shape=(batch, feat_w, feat_h, anchor_num, 4), xywh\n",
    "    b2: tensor, shape=(batch, feat_w, feat_h, anchor_num, 4), xywh\n",
    "    返回为：\n",
    "    -------\n",
    "    ciou: tensor, shape=(batch, feat_w, feat_h, anchor_num, 1)\n",
    "    \"\"\"\n",
    "    # 求出预测框左上角右下角\n",
    "    b1_xy = b1[..., :2]\n",
    "    b1_wh = b1[..., 2:4]\n",
    "    b1_wh_half = b1_wh / 2.\n",
    "    b1_mins = b1_xy - b1_wh_half\n",
    "    b1_maxes = b1_xy + b1_wh_half\n",
    "    # 求出真实框左上角右下角\n",
    "    b2_xy = b2[..., :2]\n",
    "    b2_wh = b2[..., 2:4]\n",
    "    b2_wh_half = b2_wh / 2.\n",
    "    b2_mins = b2_xy - b2_wh_half\n",
    "    b2_maxes = b2_xy + b2_wh_half\n",
    "    # 求真实框和预测框所有的iou\n",
    "    intersect_mins = torch.max(b1_mins, b2_mins)\n",
    "    intersect_maxes = torch.min(b1_maxes, b2_maxes)\n",
    "    intersect_wh = torch.max(intersect_maxes - intersect_mins, torch.zeros_like(intersect_maxes))\n",
    "    intersect_area = intersect_wh[..., 0] * intersect_wh[..., 1]\n",
    "    b1_area = b1_wh[..., 0] * b1_wh[..., 1]\n",
    "    b2_area = b2_wh[..., 0] * b2_wh[..., 1]\n",
    "    union_area = b1_area + b2_area - intersect_area\n",
    "    iou = intersect_area / torch.clamp(union_area, min=1e-6)\n",
    "    # 计算中心的差距\n",
    "    center_distance = torch.sum(torch.pow((b1_xy - b2_xy), 2), axis=-1)\n",
    "    # 找到包裹两个框的最小框的左上角和右下角\n",
    "    enclose_mins = torch.min(b1_mins, b2_mins)\n",
    "    enclose_maxes = torch.max(b1_maxes, b2_maxes)\n",
    "    enclose_wh = torch.max(enclose_maxes - enclose_mins, torch.zeros_like(intersect_maxes))\n",
    "    # 计算对角线距离\n",
    "    enclose_diagonal = torch.sum(torch.pow(enclose_wh, 2), axis=-1)\n",
    "    ciou = iou - 1.0 * (center_distance) / (enclose_diagonal + 1e-7) ### CIou\n",
    "    v = (4 / (math.pi ** 2)) * torch.pow((torch.atan(b1_wh[..., 0] / b1_wh[..., 1]) - torch.atan(b2_wh[..., 0] / b2_wh[..., 1])), 2) ## v 权重参数\n",
    "    alpha = v / (1.0 - iou + v)  ## a 权重参数\n",
    "    ciou = ciou - alpha * v\n",
    "    return ciou"
   ]
  },
  {
   "cell_type": "code",
   "execution_count": 5,
   "metadata": {},
   "outputs": [],
   "source": [
    "\n",
    "img = np.zeros((512, 512, 3), np.uint8)\n",
    "img.fill(255)\n",
    "RecA = [1, 100, 100, 150, 150]\n",
    "RecB = [1, 150, 150, 200, 200]\n",
    "a = torch.tensor(RecA, dtype=torch.float)  # tensor, shape=(batch, feat_w, feat_h, anchor_num, 4), xywh\n",
    "b = torch.tensor(RecB, dtype=torch.float)\n",
    "cv2.rectangle(img, (int(RecA[1] - RecA[3] / 2), int(RecA[2] - RecA[4] / 2)),\n",
    "              (int(RecA[1] + RecA[3] / 2), int(RecA[2] + RecA[4] / 2)), (0, 255, 0), 5)\n",
    "cv2.rectangle(img, (int(RecB[1] - RecB[3] / 2), int(RecB[2] - RecB[4] / 2)),\n",
    "              (int(RecB[1] + RecB[3] / 2), int(RecB[2] + RecB[4] / 2)), (255, 0, 0), 5)\n",
    "CIOU = box_ciou(a, b)\n",
    "font = cv2.FONT_HERSHEY_SIMPLEX\n",
    "cv2.putText(img, \"CIOU_loss = %.2f\" % CIOU, (130, 190), font, 0.7, (0, 0, 0), 2)\n",
    "cv2.imshow(\"image\", img)\n",
    "cv2.waitKey()\n",
    "cv2.destroyAllWindows()"
   ]
  },
  {
   "cell_type": "markdown",
   "metadata": {},
   "source": [
    "修改参数，看运行结果"
   ]
  },
  {
   "cell_type": "code",
   "execution_count": null,
   "metadata": {},
   "outputs": [],
   "source": [
    "\n",
    "img = np.zeros((512, 512, 3), np.uint8)\n",
    "img.fill(255)\n",
    "\n",
    "#修改下面的参数值，看一下结果\n",
    "RecA = [1, 80, 80, 150, 150]\n",
    "RecB = [1, 150, 150, 200, 200]\n",
    "\n",
    "a = torch.tensor(RecA, dtype=torch.float)  # tensor, shape=(batch, feat_w, feat_h, anchor_num, 4), xywh\n",
    "b = torch.tensor(RecB, dtype=torch.float)\n",
    "cv2.rectangle(img, (int(RecA[1] - RecA[3] / 2), int(RecA[2] - RecA[4] / 2)),\n",
    "              (int(RecA[1] + RecA[3] / 2), int(RecA[2] + RecA[4] / 2)), (0, 255, 0), 5)\n",
    "cv2.rectangle(img, (int(RecB[1] - RecB[3] / 2), int(RecB[2] - RecB[4] / 2)),\n",
    "              (int(RecB[1] + RecB[3] / 2), int(RecB[2] + RecB[4] / 2)), (255, 0, 0), 5)\n",
    "CIOU = box_ciou(a, b)\n",
    "font = cv2.FONT_HERSHEY_SIMPLEX\n",
    "cv2.putText(img, \"CIOU_loss = %.2f\" % CIOU, (130, 190), font, 0.7, (0, 0, 0), 2)\n",
    "cv2.imshow(\"image\", img)\n",
    "cv2.waitKey()\n",
    "cv2.destroyAllWindows()"
   ]
  },
  {
   "cell_type": "code",
   "execution_count": null,
   "metadata": {},
   "outputs": [],
   "source": []
  }
 ],
 "metadata": {
  "kernelspec": {
   "display_name": "Python 3",
   "language": "python",
   "name": "python3"
  },
  "language_info": {
   "codemirror_mode": {
    "name": "ipython",
    "version": 3
   },
   "file_extension": ".py",
   "mimetype": "text/x-python",
   "name": "python",
   "nbconvert_exporter": "python",
   "pygments_lexer": "ipython3",
   "version": "3.7.3"
  }
 },
 "nbformat": 4,
 "nbformat_minor": 4
}

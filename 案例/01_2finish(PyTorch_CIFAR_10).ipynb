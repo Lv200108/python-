{
 "cells": [
  {
   "cell_type": "markdown",
   "metadata": {
    "colab_type": "text",
    "id": "qihkh0XIGhkr"
   },
   "source": [
    "# 事先准备"
   ]
  },
  {
   "cell_type": "markdown",
   "metadata": {
    "colab_type": "text",
    "id": "2ugZhAyFNMpm"
   },
   "source": [
    "## PyTorch的安装"
   ]
  },
  {
   "cell_type": "code",
   "execution_count": null,
   "metadata": {
    "colab": {
     "base_uri": "https://localhost:8080/",
     "height": 119
    },
    "colab_type": "code",
    "id": "RWkFKCyKGC54",
    "outputId": "fe22627a-f65b-4ed7-b04c-f51dfa80e3e7"
   },
   "outputs": [],
   "source": [
    "#!pip install torch torchvision"
   ]
  },
  {
   "cell_type": "markdown",
   "metadata": {
    "colab_type": "text",
    "id": "i254_j0-NUkj"
   },
   "source": [
    "## 导入所需的软件包"
   ]
  },
  {
   "cell_type": "code",
   "execution_count": 1,
   "metadata": {
    "colab": {},
    "colab_type": "code",
    "id": "Vix07zBJBlxs"
   },
   "outputs": [],
   "source": [
    "import torch\n",
    "import torchvision\n",
    "import torchvision.transforms as transforms"
   ]
  },
  {
   "cell_type": "markdown",
   "metadata": {
    "colab_type": "text",
    "id": "2r53ghy3NYwo"
   },
   "source": [
    "##  定义transform\n",
    "\n"
   ]
  },
  {
   "cell_type": "code",
   "execution_count": 2,
   "metadata": {
    "colab": {},
    "colab_type": "code",
    "id": "Jvorr6qiNeAC"
   },
   "outputs": [],
   "source": [
    "transform = transforms.Compose( [transforms.ToTensor(), transforms.Normalize((0.5, 0.5, 0.5), (0.5, 0.5, 0.5))])"
   ]
  },
  {
   "cell_type": "markdown",
   "metadata": {
    "colab_type": "text",
    "id": "Qqvx8XOzNvS5"
   },
   "source": [
    "## 准备训练数据和测试数据"
   ]
  },
  {
   "cell_type": "code",
   "execution_count": 3,
   "metadata": {
    "colab": {
     "base_uri": "https://localhost:8080/",
     "height": 51
    },
    "colab_type": "code",
    "id": "kCyVPgFeBs_Q",
    "outputId": "1242a25e-1971-4417-fbad-6b0ad311d620"
   },
   "outputs": [
    {
     "name": "stdout",
     "output_type": "stream",
     "text": [
      "Downloading https://www.cs.toronto.edu/~kriz/cifar-10-python.tar.gz to ./data\\cifar-10-python.tar.gz\n"
     ]
    },
    {
     "data": {
      "application/vnd.jupyter.widget-view+json": {
       "model_id": "3a1e93b8ccb3487f81d8f46e74aaa1b8",
       "version_major": 2,
       "version_minor": 0
      },
      "text/plain": [
       "HBox(children=(IntProgress(value=0, max=170498071), HTML(value='')))"
      ]
     },
     "metadata": {},
     "output_type": "display_data"
    },
    {
     "name": "stdout",
     "output_type": "stream",
     "text": [
      "\n",
      "Extracting ./data\\cifar-10-python.tar.gz to ./data\n",
      "Files already downloaded and verified\n"
     ]
    }
   ],
   "source": [
    "# 学习数据\n",
    "train_data_with_teacher_labels = torchvision.datasets.CIFAR10(root='./data', train=True,download=True, transform=transform)\n",
    "train_data_loader = torch.utils.data.DataLoader(train_data_with_teacher_labels, batch_size=4,shuffle=True, num_workers=2)\n",
    "# 测试数据\n",
    "test_data_with_teacher_labels = torchvision.datasets.CIFAR10(root='./data', train=False, download=True, transform=transform)\n",
    "test_data_loader = torch.utils.data.DataLoader(test_data_with_teacher_labels, batch_size=4,shuffle=False, num_workers=2)"
   ]
  },
  {
   "cell_type": "markdown",
   "metadata": {
    "colab_type": "text",
    "id": "Uxr8dFWArIMS"
   },
   "source": [
    "## 配置分类内容"
   ]
  },
  {
   "cell_type": "code",
   "execution_count": 4,
   "metadata": {
    "colab": {},
    "colab_type": "code",
    "id": "glIHxuA6rKtz"
   },
   "outputs": [],
   "source": [
    "class_names = ('plane', 'car', 'bird', 'cat','deer', 'dog', 'frog', 'horse', 'ship', 'truck')"
   ]
  },
  {
   "cell_type": "markdown",
   "metadata": {
    "colab_type": "text",
    "id": "qxnsnh3xGmAl"
   },
   "source": [
    "# 操作办法"
   ]
  },
  {
   "cell_type": "code",
   "execution_count": 5,
   "metadata": {
    "colab": {},
    "colab_type": "code",
    "id": "DHwpORjbrT8P"
   },
   "outputs": [],
   "source": [
    "import matplotlib.pyplot as plt\n",
    "import numpy as np"
   ]
  },
  {
   "cell_type": "markdown",
   "metadata": {
    "colab_type": "text",
    "id": "05DEIB18rXW_"
   },
   "source": [
    "## 显示图像的函数"
   ]
  },
  {
   "cell_type": "code",
   "execution_count": 6,
   "metadata": {
    "colab": {},
    "colab_type": "code",
    "id": "bv9V5o5crW16"
   },
   "outputs": [],
   "source": [
    "def show_image(img):\n",
    "  img = img / 2 + 0.5\n",
    "  npimg = img.numpy()\n",
    "  plt.imshow(np.transpose(npimg, (1, 2, 0)))\n",
    "  plt.show()"
   ]
  },
  {
   "cell_type": "markdown",
   "metadata": {
    "colab_type": "text",
    "id": "wHhg5UrUtDza"
   },
   "source": [
    "## 查看 CIFAR-10 的内容"
   ]
  },
  {
   "cell_type": "code",
   "execution_count": 7,
   "metadata": {
    "colab": {
     "base_uri": "https://localhost:8080/",
     "height": 184
    },
    "colab_type": "code",
    "id": "gRZu2ecvBw3P",
    "outputId": "6021ca72-66a0-4f25-9f5e-92d66eca2de3"
   },
   "outputs": [
    {
     "data": {
      "image/png": "[encoded data removed]",
      "text/plain": [
       "<Figure size 432x288 with 1 Axes>"
      ]
     },
     "metadata": {
      "needs_background": "light"
     },
     "output_type": "display_data"
    },
    {
     "name": "stdout",
     "output_type": "stream",
     "text": [
      " frog  ship  bird  frog\n"
     ]
    }
   ],
   "source": [
    "# 从训练数据中提取一些数据\n",
    "data_iterator = iter(train_data_loader)\n",
    "images, labels = data_iterator.next()\n",
    "\n",
    "# 显示图像\n",
    "show_image(torchvision.utils.make_grid(images))\n",
    "# 显示标签\n",
    "print(' '.join('%5s' % class_names[labels[j]] for j in range(4)))"
   ]
  },
  {
   "cell_type": "markdown",
   "metadata": {
    "colab_type": "text",
    "id": "_GyQ4iOtvIlv"
   },
   "source": [
    "## 训练用神经网络的定义\n",
    "\n"
   ]
  },
  {
   "cell_type": "code",
   "execution_count": 8,
   "metadata": {
    "colab": {},
    "colab_type": "code",
    "id": "nOk6omnOCFcO"
   },
   "outputs": [],
   "source": [
    "import torch.nn as nn\n",
    "import torch.nn.functional as F\n",
    "\n",
    "class CNN(nn.Module):\n",
    "  def __init__(self):\n",
    "    super(CNN, self).__init__()\n",
    "    self.conv1 = nn.Conv2d(3, 6, 5)\n",
    "    self.pool = nn.MaxPool2d(2, 2)\n",
    "    self.conv2 = nn.Conv2d(6, 16, 5)\n",
    "    self.layer1 = nn.Linear(16 * 5 * 5, 120)\n",
    "    self.layer2 = nn.Linear(120, 84)\n",
    "    self.layer3 = nn.Linear(84, 10)\n",
    "\n",
    "  def forward(self, input_data):\n",
    "    input_data = self.pool(F.relu(self.conv1(input_data)))\n",
    "    input_data = self.pool(F.relu(self.conv2(input_data)))\n",
    "    input_data = input_data.view(-1, 16 * 5 * 5)\n",
    "    input_data = F.relu(self.layer1(input_data))\n",
    "    input_data = F.relu(self.layer2(input_data))\n",
    "    input_data = self.layer3(input_data)\n",
    "    return input_data\n",
    "\n",
    "model = CNN()"
   ]
  },
  {
   "cell_type": "markdown",
   "metadata": {
    "colab_type": "text",
    "id": "_k4YnHbrvXXe"
   },
   "source": [
    "## 配置optimizer"
   ]
  },
  {
   "cell_type": "code",
   "execution_count": 9,
   "metadata": {
    "colab": {},
    "colab_type": "code",
    "id": "_o0uCkfsCIi9"
   },
   "outputs": [],
   "source": [
    "import torch.optim as optimizer\n",
    "\n",
    "criterion = nn.CrossEntropyLoss()\n",
    "optimizer = optimizer.SGD(model.parameters(), lr=0.001, momentum=0.9)"
   ]
  },
  {
   "cell_type": "markdown",
   "metadata": {
    "colab_type": "text",
    "id": "m5we3fFdva2Z"
   },
   "source": [
    "## 学习"
   ]
  },
  {
   "cell_type": "code",
   "execution_count": 10,
   "metadata": {
    "colab": {
     "base_uri": "https://localhost:8080/",
     "height": 340
    },
    "colab_type": "code",
    "id": "A_1GSPwVCK8W",
    "outputId": "276f91c8-7eb0-4c32-91cf-fb23d5f1d381"
   },
   "outputs": [
    {
     "name": "stdout",
     "output_type": "stream",
     "text": [
      "学习进度：[1,  2000] loss: 2.216\n",
      "学习进度：[1,  4000] loss: 1.927\n",
      "学习进度：[1,  6000] loss: 1.709\n",
      "学习进度：[1,  8000] loss: 1.635\n",
      "学习进度：[1, 10000] loss: 1.538\n",
      "学习进度：[1, 12000] loss: 1.455\n",
      "学习进度：[2,  2000] loss: 1.419\n",
      "学习进度：[2,  4000] loss: 1.369\n",
      "学习进度：[2,  6000] loss: 1.352\n",
      "学习进度：[2,  8000] loss: 1.342\n",
      "学习进度：[2, 10000] loss: 1.297\n",
      "学习进度：[2, 12000] loss: 1.290\n",
      "学习进度：[3,  2000] loss: 1.220\n",
      "学习进度：[3,  4000] loss: 1.200\n",
      "学习进度：[3,  6000] loss: 1.222\n",
      "学习进度：[3,  8000] loss: 1.223\n",
      "学习进度：[3, 10000] loss: 1.169\n",
      "学习进度：[3, 12000] loss: 1.185\n",
      "学习完成\n"
     ]
    }
   ],
   "source": [
    "# 最大学习次数\n",
    "MAX_EPOCH=3\n",
    "\n",
    "#\n",
    "for epoch in range(MAX_EPOCH):\n",
    "\n",
    "  total_loss = 0.0\n",
    "  for i, data in enumerate(train_data_loader, 0):\n",
    "    # 从数据中检索训练数据和教师标签数据\n",
    "    train_data, teacher_labels = data\n",
    "\n",
    "    # 删除计算出的梯度信息\n",
    "    optimizer.zero_grad()\n",
    "\n",
    "    # 计算模型中的预测\n",
    "    outputs = model(train_data)\n",
    "    \n",
    "    # 用loss和w进行微分\n",
    "    loss = criterion(outputs, teacher_labels)\n",
    "    loss.backward()\n",
    "    \n",
    "    # 更新梯度\n",
    "    optimizer.step()\n",
    "\n",
    "    # 累计误差\n",
    "    total_loss += loss.item()\n",
    "    \n",
    "    # 以2000个小型批处理为单位显示进度\n",
    "    if i % 2000 == 1999:\n",
    "      print('学习进度：[%d, %5d] loss: %.3f' %(epoch + 1, i + 1, total_loss / 2000))\n",
    "      total_loss = 0.0\n",
    "\n",
    "print('学习完成')"
   ]
  },
  {
   "cell_type": "markdown",
   "metadata": {
    "colab_type": "text",
    "id": "TlMFjwFrtXg4"
   },
   "source": [
    "## 用个别数据进行测试"
   ]
  },
  {
   "cell_type": "code",
   "execution_count": null,
   "metadata": {
    "colab": {
     "base_uri": "https://localhost:8080/",
     "height": 184
    },
    "colab_type": "code",
    "id": "cguK6HzZCOmZ",
    "outputId": "264a2686-de7a-4098-da05-2a4798868a83"
   },
   "outputs": [],
   "source": [
    "data_iterator = iter(test_data_loader)\n",
    "images, labels = data_iterator.next()\n",
    "\n",
    "# 显示图像\n",
    "show_image(torchvision.utils.make_grid(images))\n",
    "print('正确教师标签: ', ' '.join('%5s' % class_names[labels[j]] for j in range(4)))"
   ]
  },
  {
   "cell_type": "markdown",
   "metadata": {
    "colab_type": "text",
    "id": "PcdWzXb4Gu5k"
   },
   "source": [
    "## 测试"
   ]
  },
  {
   "cell_type": "code",
   "execution_count": null,
   "metadata": {
    "colab": {},
    "colab_type": "code",
    "id": "aF8GAf3UGwIo"
   },
   "outputs": [],
   "source": [
    "outputs = model(images)"
   ]
  },
  {
   "cell_type": "code",
   "execution_count": null,
   "metadata": {
    "colab": {
     "base_uri": "https://localhost:8080/",
     "height": 34
    },
    "colab_type": "code",
    "id": "NZEWhDsgGy1Q",
    "outputId": "1899c593-fd72-48a2-e218-bdbde28b5a63"
   },
   "outputs": [],
   "source": [
    "_, predicted = torch.max(outputs, 1)\n",
    "\n",
    "print('预测: ', ' '.join('%5s' % class_names[predicted[j]] for j in range(4)))"
   ]
  },
  {
   "cell_type": "markdown",
   "metadata": {
    "colab_type": "text",
    "id": "Oy5TIYA0yYVD"
   },
   "source": [
    "## 验证"
   ]
  },
  {
   "cell_type": "code",
   "execution_count": null,
   "metadata": {
    "colab": {
     "base_uri": "https://localhost:8080/",
     "height": 34
    },
    "colab_type": "code",
    "id": "qRucBo1KG4yX",
    "outputId": "1ea2eed5-8aa8-4f9a-d6b7-74bebf5ec13f"
   },
   "outputs": [],
   "source": [
    "count_when_correct = 0\n",
    "total = 0\n",
    "with torch.no_grad():\n",
    "  for data in test_data_loader:\n",
    "    test_data, teacher_labels = data\n",
    "    results = model(test_data)\n",
    "    _, predicted = torch.max(results.data, 1)\n",
    "    total += teacher_labels.size(0)\n",
    "    count_when_correct += (predicted == teacher_labels).sum().item()\n",
    "\n",
    "print('10000 验证图像的正确率: %d %%' % (100 * count_when_correct / total))"
   ]
  },
  {
   "cell_type": "markdown",
   "metadata": {
    "colab_type": "text",
    "id": "9DFabzYfyoOa"
   },
   "source": [
    "## 每个类的测试结果"
   ]
  },
  {
   "cell_type": "code",
   "execution_count": null,
   "metadata": {
    "colab": {
     "base_uri": "https://localhost:8080/",
     "height": 187
    },
    "colab_type": "code",
    "id": "sfF7pryzHDQL",
    "outputId": "fcae1fff-c567-4086-9959-3b1ec7cc4856"
   },
   "outputs": [],
   "source": [
    "class_correct = list(0. for i in range(10))\n",
    "class_total = list(0. for i in range(10))\n",
    "#\n",
    "with torch.no_grad():\n",
    "  for data in test_data_loader:\n",
    "    #  \n",
    "    test_data, teacher_labels = data\n",
    "    #\n",
    "    results = model(test_data)\n",
    "    #\n",
    "    _, predicted = torch.max(results, 1)\n",
    "    #\n",
    "    c = (predicted == teacher_labels).squeeze()\n",
    "    #\n",
    "    for i in range(4):\n",
    "      label = teacher_labels[i]\n",
    "      #\n",
    "      class_correct[label] += c[i].item()\n",
    "      class_total[label] += 1\n",
    "\n",
    "\n",
    "for i in range(10):\n",
    "  print(' %5s 类的正确率是: %2d %%' % (class_names[i], 100 * class_correct[i] / class_total[i]))"
   ]
  }
 ],
 "metadata": {
  "accelerator": "GPU",
  "colab": {
   "collapsed_sections": [],
   "name": "04-08(PyTorch CIFAR-10).ipynb",
   "provenance": [],
   "version": "0.3.2"
  },
  "kernelspec": {
   "display_name": "Python 3",
   "language": "python",
   "name": "python3"
  },
  "language_info": {
   "codemirror_mode": {
    "name": "ipython",
    "version": 3
   },
   "file_extension": ".py",
   "mimetype": "text/x-python",
   "name": "python",
   "nbconvert_exporter": "python",
   "pygments_lexer": "ipython3",
   "version": "3.7.3"
  }
 },
 "nbformat": 4,
 "nbformat_minor": 1
}

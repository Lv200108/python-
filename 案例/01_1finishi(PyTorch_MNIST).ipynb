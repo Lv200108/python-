{
 "cells": [
  {
   "cell_type": "markdown",
   "metadata": {
    "colab_type": "text",
    "id": "LFS-PKCRjMag"
   },
   "source": [
    "# 事先准备\n",
    "\n",
    "\n",
    "## PyTorch的安装"
   ]
  },
  {
   "cell_type": "code",
   "execution_count": null,
   "metadata": {},
   "outputs": [],
   "source": []
  },
  {
   "cell_type": "code",
   "execution_count": 1,
   "metadata": {
    "colab": {
     "base_uri": "https://localhost:8080/",
     "height": 119
    },
    "colab_type": "code",
    "id": "Jg32ZeiX4qZw",
    "outputId": "8fd78e99-8e75-4fee-c140-55b4b72b1620"
   },
   "outputs": [],
   "source": [
    "#!pip install torch torchvision"
   ]
  },
  {
   "cell_type": "code",
   "execution_count": 2,
   "metadata": {
    "colab": {},
    "colab_type": "code",
    "id": "Qaq_LyiCYlAJ"
   },
   "outputs": [],
   "source": [
    "#print(torch.__version__)"
   ]
  },
  {
   "cell_type": "markdown",
   "metadata": {
    "colab_type": "text",
    "id": "K28hN0NWMhEc"
   },
   "source": [
    "# 操作办法\n"
   ]
  },
  {
   "cell_type": "markdown",
   "metadata": {
    "colab_type": "text",
    "id": "veMbc-mfN7pv"
   },
   "source": [
    "## 安装所需的软件包"
   ]
  },
  {
   "cell_type": "code",
   "execution_count": 3,
   "metadata": {
    "colab": {},
    "colab_type": "code",
    "id": "e6lAU8OCWnOB"
   },
   "outputs": [],
   "source": [
    "import matplotlib.pyplot as plt\n",
    "import torchvision.transforms as transforms\n",
    "from torch.utils.data import DataLoader\n",
    "from torchvision.datasets import MNIST"
   ]
  },
  {
   "cell_type": "markdown",
   "metadata": {
    "colab_type": "text",
    "id": "q9jgkZvyN1Eg"
   },
   "source": [
    "## 下载数据集"
   ]
  },
  {
   "cell_type": "code",
   "execution_count": 4,
   "metadata": {
    "colab": {},
    "colab_type": "code",
    "id": "YTuivz8y_Ae-"
   },
   "outputs": [],
   "source": [
    "data_folder='~/data'\n",
    "BATCH_SIZE=8"
   ]
  },
  {
   "cell_type": "code",
   "execution_count": 5,
   "metadata": {
    "colab": {},
    "colab_type": "code",
    "id": "V7bUjDdIWnOG"
   },
   "outputs": [],
   "source": [
    "mnist_data = MNIST(data_folder, train=True, download=True, transform=transforms.ToTensor())\n",
    "#\n",
    "data_loader = DataLoader(mnist_data,batch_size=BATCH_SIZE,shuffle=False)"
   ]
  },
  {
   "cell_type": "code",
   "execution_count": 6,
   "metadata": {
    "colab": {},
    "colab_type": "code",
    "id": "5-F0ROYk_TvI"
   },
   "outputs": [
    {
     "name": "stdout",
     "output_type": "stream",
     "text": [
      " 驱动器 C 中的卷是 Windows\n",
      " 卷的序列号是 BE71-5675\n",
      "\n",
      " C:\\Users\\hb_zh\\Desktop\\Python数据分析代码\\案例 的目录\n",
      "\n",
      "19/09/2022  上午 10:38    <DIR>          .\n",
      "19/09/2022  上午 10:38    <DIR>          ..\n",
      "19/09/2022  上午 10:10    <DIR>          .ipynb_checkpoints\n",
      "17/05/2022  下午 05:11            24,393 03_01(Numpy).ipynb\n",
      "17/05/2022  下午 05:27           729,616 03_02(Matplotlib).ipynb\n",
      "19/09/2022  上午 10:38            11,181 04_07(PyTorch_MNIST).ipynb\n",
      "18/05/2022  下午 02:11            71,283 04_08(PyTorch_CIFAR_10).ipynb\n",
      "               4 个文件        836,473 字节\n",
      "               3 个目录 16,155,840,512 可用字节\n"
     ]
    }
   ],
   "source": [
    "ls"
   ]
  },
  {
   "cell_type": "markdown",
   "metadata": {
    "colab_type": "text",
    "id": "uyPaqK-9OBB3"
   },
   "source": [
    "## 查看数据内容"
   ]
  },
  {
   "cell_type": "code",
   "execution_count": 7,
   "metadata": {
    "colab": {},
    "colab_type": "code",
    "id": "f-9LSCZtWnON"
   },
   "outputs": [],
   "source": [
    "data_iterator = iter(data_loader)\n",
    "images, labels = data_iterator.next()"
   ]
  },
  {
   "cell_type": "code",
   "execution_count": 8,
   "metadata": {
    "colab": {},
    "colab_type": "code",
    "id": "c1MMQaaS_hB6"
   },
   "outputs": [
    {
     "name": "stdout",
     "output_type": "stream",
     "text": [
      "8\n",
      "8\n"
     ]
    }
   ],
   "source": [
    "print(len(images))\n",
    "print(len(labels))"
   ]
  },
  {
   "cell_type": "markdown",
   "metadata": {
    "colab_type": "text",
    "id": "0b1meGCNOHTX"
   },
   "source": [
    "## 数据可视化"
   ]
  },
  {
   "cell_type": "code",
   "execution_count": 9,
   "metadata": {
    "colab": {},
    "colab_type": "code",
    "id": "Mb--62-MU-fe"
   },
   "outputs": [
    {
     "name": "stdout",
     "output_type": "stream",
     "text": [
      "(1, 28, 28)\n"
     ]
    },
    {
     "data": {
      "image/png": "[encoded data removed]",
      "text/plain": [
       "<Figure size 432x288 with 1 Axes>"
      ]
     },
     "metadata": {
      "needs_background": "light"
     },
     "output_type": "display_data"
    },
    {
     "name": "stdout",
     "output_type": "stream",
     "text": [
      "标签: tensor(9)\n"
     ]
    }
   ],
   "source": [
    "# 显示第几张图片\n",
    "location=4\n",
    "# 转换为numpy矩阵，然后代入data\n",
    "data = images[location].numpy()\n",
    "print(data.shape)\n",
    "# 调整数据通道以用于matplotlib的绘制\n",
    "reshaped_data=data.reshape(28,28)\n",
    "# 从数据中绘制图像\n",
    "plt.imshow(reshaped_data, cmap='inferno', interpolation='bicubic')\n",
    "plt.show()\n",
    "print('标签:', labels[location])"
   ]
  },
  {
   "cell_type": "markdown",
   "metadata": {
    "colab_type": "text",
    "id": "mER3dMmaOL4s"
   },
   "source": [
    "## 准备训练数据和测试数据"
   ]
  },
  {
   "cell_type": "code",
   "execution_count": 10,
   "metadata": {
    "colab": {},
    "colab_type": "code",
    "id": "uhcMc7_IWnOU"
   },
   "outputs": [],
   "source": [
    "# 训练数据\n",
    "train_data_with_labels = MNIST(data_folder, train=True, download=True, transform=transforms.ToTensor())\n",
    "train_data_loader = DataLoader(train_data_with_labels,batch_size=BATCH_SIZE,shuffle=True)\n",
    "\n",
    "# 测试数据\n",
    "test_data_with_labels = MNIST(data_folder, train=False, download=True, transform=transforms.ToTensor())\n",
    "test_data_loader = DataLoader(test_data_with_labels,batch_size=BATCH_SIZE,shuffle=True)"
   ]
  },
  {
   "cell_type": "markdown",
   "metadata": {
    "colab_type": "text",
    "id": "bl9UnaJbRDp4"
   },
   "source": [
    "## 神经网络的定义"
   ]
  },
  {
   "cell_type": "code",
   "execution_count": 11,
   "metadata": {
    "colab": {},
    "colab_type": "code",
    "id": "2tjPMjJXWnOX"
   },
   "outputs": [],
   "source": [
    "from torch.autograd import Variable\n",
    "import torch.nn as nn\n",
    "import torch.nn.functional as F\n",
    "\n",
    "class MLP(nn.Module):\n",
    "  def __init__(self):\n",
    "    super().__init__()\n",
    "    # 输入层\n",
    "    self.layer1 = nn.Linear(28 * 28, 100)\n",
    "    # 中间层（隐藏层）\n",
    "    self.layer2 = nn.Linear(100, 50)\n",
    "    # 输出层\n",
    "    self.layer3 = nn.Linear(50,10)\n",
    "        \n",
    "  def forward(self, input_data):\n",
    "    input_data = input_data.view(-1, 28 * 28)\n",
    "    input_data = self.layer1(input_data)\n",
    "    input_data = self.layer2(input_data)\n",
    "    input_data = self.layer3(input_data)\n",
    "    return input_data"
   ]
  },
  {
   "cell_type": "markdown",
   "metadata": {
    "colab_type": "text",
    "id": "FRB1_hcPiUvx"
   },
   "source": [
    "## 模型"
   ]
  },
  {
   "cell_type": "code",
   "execution_count": 12,
   "metadata": {
    "colab": {},
    "colab_type": "code",
    "id": "4qJy6sJsiYcO"
   },
   "outputs": [],
   "source": [
    "model = MLP()"
   ]
  },
  {
   "cell_type": "markdown",
   "metadata": {
    "colab_type": "text",
    "id": "rzIoYxwTRJXb"
   },
   "source": [
    "## 定义成本函数和优化方法\n",
    "\n"
   ]
  },
  {
   "cell_type": "code",
   "execution_count": 13,
   "metadata": {
    "colab": {},
    "colab_type": "code",
    "id": "9UzvWFHLWnOa"
   },
   "outputs": [],
   "source": [
    "import torch.optim as optimizer\n",
    "\n",
    "# 交叉熵\n",
    "lossResult = nn.CrossEntropyLoss()\n",
    "# SGD\n",
    "optimizer = optimizer.SGD(model.parameters(), lr=0.01)"
   ]
  },
  {
   "cell_type": "markdown",
   "metadata": {
    "colab_type": "text",
    "id": "1UdbDR-zj6jg"
   },
   "source": [
    "## 学习\n"
   ]
  },
  {
   "cell_type": "code",
   "execution_count": 16,
   "metadata": {
    "colab": {},
    "colab_type": "code",
    "id": "wPHZ4fX_WnOe"
   },
   "outputs": [
    {
     "name": "stdout",
     "output_type": "stream",
     "text": [
      "学习进度：[1, 2000]　学习误差（loss）: 0.830\n",
      "学习进度：[1, 4000]　学习误差（loss）: 1.202\n",
      "学习进度：[1, 6000]　学习误差（loss）: 1.550\n",
      "学习进度：[2, 2000]　学习误差（loss）: 0.306\n",
      "学习进度：[2, 4000]　学习误差（loss）: 0.618\n",
      "学习进度：[2, 6000]　学习误差（loss）: 0.919\n",
      "学习进度：[3, 2000]　学习误差（loss）: 0.295\n",
      "学习进度：[3, 4000]　学习误差（loss）: 0.584\n",
      "学习进度：[3, 6000]　学习误差（loss）: 0.893\n",
      "学习进度：[4, 2000]　学习误差（loss）: 0.284\n",
      "学习进度：[4, 4000]　学习误差（loss）: 0.567\n",
      "学习进度：[4, 6000]　学习误差（loss）: 0.859\n",
      "学习结束\n"
     ]
    }
   ],
   "source": [
    "# 最大学习次数\n",
    "MAX_EPOCH=4\n",
    "\n",
    "for epoch in range(MAX_EPOCH):\n",
    "  total_loss = 0.0\n",
    "  for i, data in enumerate(train_data_loader):\n",
    "    \n",
    "    # 从数据中检索提取训练数据和教师标签数据\n",
    "    train_data, teacher_labels = data\n",
    "    \n",
    "    # 将输入转换为torch.autograd.Variable\n",
    "    train_data, teacher_labels = Variable(train_data), Variable(teacher_labels)\n",
    "    \n",
    "    # 删除计算出的梯度信息\n",
    "    optimizer.zero_grad()\n",
    "    \n",
    "    # 为模型提供训练数据来计算预测\n",
    "    outputs = model(train_data)\n",
    "    \n",
    "    # 基于loss和w的微分计算\n",
    "    loss = lossResult(outputs, teacher_labels)\n",
    "    loss.backward()\n",
    "    \n",
    "    # 更新梯度\n",
    "    optimizer.step()\n",
    "    \n",
    "    # 累计误差\n",
    "#    total_loss += loss.data[0]\n",
    "    total_loss += loss.data\n",
    "    \n",
    "    # 以2000个小型批处理为单位显示进度\n",
    "    if i % 2000 == 1999:\n",
    "     print('学习进度：[%d, %d]　学习误差（loss）: %.3f' % (epoch + 1, i + 1, total_loss / 2000))\n",
    "  #    total_loss = 0.0\n",
    "        \n",
    "print('学习结束')"
   ]
  },
  {
   "cell_type": "markdown",
   "metadata": {
    "colab_type": "text",
    "id": "npn5XGVsWQSZ"
   },
   "source": [
    "## 测试"
   ]
  },
  {
   "cell_type": "code",
   "execution_count": 17,
   "metadata": {
    "colab": {},
    "colab_type": "code",
    "id": "Ep_R-2Z_WnOj"
   },
   "outputs": [
    {
     "name": "stdout",
     "output_type": "stream",
     "text": [
      "count_when_correct:9174\n",
      "total:10000\n",
      "正确率：9174 / 10000 = 0.917400\n"
     ]
    }
   ],
   "source": [
    "import torch\n",
    "# 总计\n",
    "total = 0\n",
    "# 正确答案\n",
    "count_when_correct = 0\n",
    "\n",
    "#\n",
    "for data in test_data_loader:\n",
    "  # 从测试数据加载器中检索数据，然后将其解包\n",
    "  test_data, teacher_labels = data\n",
    "  # 将转换测试数据，然后将其传递给模型，使其作出判断\n",
    "  results = model(Variable(test_data))\n",
    "  # 获取预测\n",
    "  _, predicted = torch.max(results.data, 1)\n",
    "  #\n",
    "  total += teacher_labels.size(0)\n",
    "  count_when_correct += (predicted == teacher_labels).sum()\n",
    "\n",
    "    \n",
    "print('count_when_correct:%d'%(count_when_correct))\n",
    "print('total:%d'%(total))\n",
    "\n",
    "print('正确率：%d / %d = %f'% (count_when_correct, total, int(count_when_correct)/int(total)))"
   ]
  },
  {
   "cell_type": "markdown",
   "metadata": {
    "colab_type": "text",
    "id": "nIP4Fic_Wj1w"
   },
   "source": [
    "## 用个别数据进行测试"
   ]
  },
  {
   "cell_type": "code",
   "execution_count": 18,
   "metadata": {
    "colab": {},
    "colab_type": "code",
    "id": "55Xfqi2sWnOn",
    "scrolled": true
   },
   "outputs": [
    {
     "name": "stdout",
     "output_type": "stream",
     "text": [
      "标签： tensor(3)\n"
     ]
    },
    {
     "data": {
      "image/png": "[encoded data removed]",
      "text/plain": [
       "<Figure size 432x288 with 1 Axes>"
      ]
     },
     "metadata": {
      "needs_background": "light"
     },
     "output_type": "display_data"
    }
   ],
   "source": [
    "test_iterator = iter(test_data_loader)\n",
    "# 可以增加或减少次数，以获得不同的测试数据\n",
    "test_data, teacher_labels = test_iterator.next()\n",
    "# 转换测试数据，然后将其传递给模型，使其作出判断\n",
    "results = model(Variable(test_data))\n",
    "_, predicted_label = torch.max(results.data, 1)\n",
    "\n",
    "location=1\n",
    "plt.imshow(test_data[location].numpy().reshape(28, 28), cmap='inferno', interpolation='bicubic')\n",
    "print('标签：', predicted_label[location])"
   ]
  }
 ],
 "metadata": {
  "accelerator": "GPU",
  "colab": {
   "collapsed_sections": [],
   "name": "04-07(PyTorch MNIST).ipynb",
   "provenance": [],
   "version": "0.3.2"
  },
  "kernelspec": {
   "display_name": "Python 3",
   "language": "python",
   "name": "python3"
  },
  "language_info": {
   "codemirror_mode": {
    "name": "ipython",
    "version": 3
   },
   "file_extension": ".py",
   "mimetype": "text/x-python",
   "name": "python",
   "nbconvert_exporter": "python",
   "pygments_lexer": "ipython3",
   "version": "3.7.3"
  }
 },
 "nbformat": 4,
 "nbformat_minor": 1
}

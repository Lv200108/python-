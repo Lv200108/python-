{
 "cells": [
  {
   "cell_type": "markdown",
   "metadata": {},
   "source": [
    "## 3.2 利用numpy进行科学计算"
   ]
  },
  {
   "cell_type": "code",
   "execution_count": 1,
   "metadata": {},
   "outputs": [],
   "source": [
    "import numpy as np"
   ]
  },
  {
   "cell_type": "markdown",
   "metadata": {},
   "source": [
    "## 3.2.1 多维数组"
   ]
  },
  {
   "cell_type": "markdown",
   "metadata": {},
   "source": [
    "### 1 创建数组\n",
    "\n",
    "最基本的方式是将序列传递给Numpy的array()函数\n"
   ]
  },
  {
   "cell_type": "code",
   "execution_count": null,
   "metadata": {},
   "outputs": [],
   "source": [
    "ndarray1 = np.array([0,1,2,3,4,5,6,7])\n",
    "ndarray2 = np.array((0,1,2,3,4,5,6,7))\n",
    "ndarray3 = np.arange(100)\n",
    "print(ndarray1)\n",
    "print(ndarray2)\n",
    "print(ndarray3)"
   ]
  },
  {
   "cell_type": "markdown",
   "metadata": {},
   "source": [
    "多维数组创建"
   ]
  },
  {
   "cell_type": "code",
   "execution_count": null,
   "metadata": {},
   "outputs": [],
   "source": [
    "ndarray4 = np.array([[1, 2, 3, 4],[2, 3, 4, 1],[3, 4, 1, 2],[4, 1, 2, 3]])\n",
    "print(ndarray4)"
   ]
  },
  {
   "cell_type": "markdown",
   "metadata": {},
   "source": [
    "### 2 创建多种类型的随机矩阵 ( 特殊数值法 )\n",
    "\n",
    "全1矩阵（ones）、零矩阵（zeros）、单位矩阵（eyes）、对角矩阵（diag）、随机矩阵（rand）"
   ]
  },
  {
   "cell_type": "code",
   "execution_count": null,
   "metadata": {},
   "outputs": [],
   "source": [
    "ones1 = np.ones((10, 3))\n",
    "ones1"
   ]
  },
  {
   "cell_type": "code",
   "execution_count": null,
   "metadata": {},
   "outputs": [],
   "source": [
    "##############################\n",
    "zeros1 = np.zeros(6)\n",
    "zeros1"
   ]
  },
  {
   "cell_type": "code",
   "execution_count": null,
   "metadata": {},
   "outputs": [],
   "source": [
    "zeros2 = np.zeros((3, 2))\n",
    "zeros2"
   ]
  },
  {
   "cell_type": "code",
   "execution_count": null,
   "metadata": {},
   "outputs": [],
   "source": [
    "eye1 = np.eye(8)\n",
    "eye1"
   ]
  },
  {
   "cell_type": "code",
   "execution_count": null,
   "metadata": {},
   "outputs": [],
   "source": [
    "diag1 = np.diag([1, 2, 5, 8])\n",
    "diag1"
   ]
  },
  {
   "cell_type": "code",
   "execution_count": null,
   "metadata": {},
   "outputs": [],
   "source": [
    "rand1 = np.random.randint(0, 100, (10, 15))\n",
    "rand1"
   ]
  },
  {
   "cell_type": "markdown",
   "metadata": {},
   "source": [
    "### 3 创建空的多维数组"
   ]
  },
  {
   "cell_type": "markdown",
   "metadata": {},
   "source": [
    "在很多时候，一开始并不清楚多维数组有多少行，需要先创建一个空的多维数组，然后再向其中插入数据。"
   ]
  },
  {
   "cell_type": "code",
   "execution_count": null,
   "metadata": {},
   "outputs": [],
   "source": [
    "empty_m = np.empty(shape=[0, 4])\n",
    "empty_m"
   ]
  },
  {
   "cell_type": "markdown",
   "metadata": {},
   "source": [
    "如果需要一个3行4列、初始值都是255的无符号整型数组，应该怎么做呢？全1数组乘以255，或全0数组加255，都是很好的解决办法。另外，使用填充函数fill()也可以解决这个问题。fill()函数不只可以填充空数组，任何数组都可以使用它来填充固定的值"
   ]
  },
  {
   "cell_type": "code",
   "execution_count": null,
   "metadata": {},
   "outputs": [],
   "source": [
    "##############\n",
    "a = np.empty((3, 4), dtype=np.uint8)\n",
    "a.fill(255)\n",
    "a"
   ]
  },
  {
   "cell_type": "code",
   "execution_count": null,
   "metadata": {},
   "outputs": [],
   "source": []
  },
  {
   "cell_type": "code",
   "execution_count": null,
   "metadata": {},
   "outputs": [],
   "source": []
  },
  {
   "cell_type": "markdown",
   "metadata": {},
   "source": [
    "### 4 随机数值法============"
   ]
  },
  {
   "cell_type": "markdown",
   "metadata": {},
   "source": [
    "NumPy有一个random子模块，用随机数值法创建数组主要就是使用random子模块。主要介绍3个常用函数\n",
    "np.random.random(size = None)\n",
    "np.random.randint(low, hith = None, size=None)\n",
    "np.random.normal(loc=0.0, scale=1.0, size=None)"
   ]
  },
  {
   "cell_type": "markdown",
   "metadata": {},
   "source": [
    "random() 函数用于生成[0, 1)区间内的随机浮点型数组，randint() 函数用于生成[low, high)区间（左闭右开）内的随机整型数组。参数size是一个元组，用于指定生成数组的结构。"
   ]
  },
  {
   "cell_type": "code",
   "execution_count": 2,
   "metadata": {},
   "outputs": [
    {
     "data": {
      "text/plain": [
       "array([0.58874063, 0.4512982 , 0.56776453, 0.55817664, 0.67294621,\n",
       "       0.37156981, 0.38901888, 0.51594603, 0.35620936, 0.457448  ,\n",
       "       0.95328615, 0.11799497, 0.81975189, 0.74478274, 0.0524756 ,\n",
       "       0.73491053, 0.7750393 , 0.1389304 , 0.72409224, 0.51661743,\n",
       "       0.34674307, 0.77711265, 0.96880996, 0.06400111, 0.37560227,\n",
       "       0.23371859, 0.4314514 , 0.13437987, 0.16906572, 0.3743421 ,\n",
       "       0.00280598, 0.30645386, 0.80402491, 0.60085038, 0.58182742,\n",
       "       0.95848109, 0.92419737, 0.20550109, 0.66364092, 0.52793714,\n",
       "       0.81465715, 0.51599016, 0.01725698, 0.36951427, 0.5560294 ,\n",
       "       0.70638865, 0.45073806, 0.31105258, 0.60365153, 0.64692852,\n",
       "       0.01111523, 0.98927757, 0.88530557, 0.77570262, 0.65308641,\n",
       "       0.92510754, 0.85118655, 0.4353371 , 0.29437296, 0.75700456,\n",
       "       0.73059434, 0.95983033, 0.13947408, 0.85613725, 0.59878844,\n",
       "       0.49559741, 0.77876675, 0.06382383, 0.83199374, 0.35707548,\n",
       "       0.42349757, 0.11237759, 0.94289415, 0.02332053, 0.50607711,\n",
       "       0.6367931 , 0.89970072, 0.25089086, 0.08697417, 0.47421504,\n",
       "       0.9955875 , 0.92347733, 0.17853533, 0.60919715, 0.1615061 ,\n",
       "       0.87544069, 0.19709685, 0.83519892, 0.44275679, 0.2493285 ,\n",
       "       0.13544563, 0.15463191, 0.85630794, 0.02346972, 0.35857179,\n",
       "       0.93990216, 0.45251969, 0.00555327, 0.44720816, 0.94760064])"
      ]
     },
     "execution_count": 2,
     "metadata": {},
     "output_type": "execute_result"
    }
   ],
   "source": [
    "np.random.random(100)"
   ]
  },
  {
   "cell_type": "code",
   "execution_count": null,
   "metadata": {},
   "outputs": [],
   "source": [
    "np.random.random((4, 3))"
   ]
  },
  {
   "cell_type": "code",
   "execution_count": null,
   "metadata": {},
   "outputs": [],
   "source": [
    "np.random.randint(5)"
   ]
  },
  {
   "cell_type": "code",
   "execution_count": null,
   "metadata": {},
   "outputs": [],
   "source": [
    "np.random.randint(30,90, size=(5, 8))"
   ]
  },
  {
   "cell_type": "markdown",
   "metadata": {},
   "source": [
    "normal() 函数同于生成以loc为均值、 以scale为标准差的正态分布数组。下面用正态分布函数模拟生成1000位成年男性的身高数据（假定成年男性平均身高为170厘米，标准差为4厘米），并用柱状图表示。"
   ]
  },
  {
   "cell_type": "code",
   "execution_count": 3,
   "metadata": {},
   "outputs": [
    {
     "data": {
      "text/plain": [
       "array([171.88182333, 168.41108117, 174.06800907, 166.86250657,\n",
       "       172.09798067, 172.16508102, 169.69880042, 167.60846055,\n",
       "       167.72220761, 171.10280256, 168.45908877, 167.44770552,\n",
       "       172.24165031, 166.93348742, 171.13768241, 167.59777091,\n",
       "       168.29735947, 168.42357722, 172.5754136 , 169.97265238,\n",
       "       170.84760175, 168.1477278 , 173.24664556, 167.80543789,\n",
       "       170.31329501, 176.43479274, 169.02944122, 173.98680412,\n",
       "       168.96906759, 167.94646428, 171.60863662, 165.90845511,\n",
       "       169.84153393, 163.94788284, 171.97136016, 169.37130408,\n",
       "       170.82252513, 166.55519436, 169.77765899, 173.08423288,\n",
       "       159.85055421, 172.38351766, 162.65306632, 167.78314583,\n",
       "       167.94771854, 166.3474581 , 165.24060498, 179.04318916,\n",
       "       173.43896158, 165.57076653, 177.39997556, 175.80907885,\n",
       "       169.58036811, 166.21965401, 173.02983515, 171.37495738,\n",
       "       170.07600705, 169.1078329 , 172.39929836, 169.48386013,\n",
       "       164.07284041, 173.90203725, 165.4549527 , 174.7914722 ,\n",
       "       168.0041687 , 168.34280724, 171.27887169, 176.3802921 ,\n",
       "       168.11395941, 166.93941156, 173.70241331, 175.6548286 ,\n",
       "       169.29651287, 174.08706196, 166.97463046, 177.49237426,\n",
       "       167.70392182, 173.0649081 , 172.91841993, 170.25844943,\n",
       "       170.12429008, 175.94721947, 177.10311411, 168.23094665,\n",
       "       167.90261973, 166.04647127, 161.75788775, 170.5599199 ,\n",
       "       167.87294556, 169.807961  , 172.82024295, 171.60601078,\n",
       "       169.417909  , 168.75436723, 165.93339154, 171.51025074,\n",
       "       169.97123422, 174.75785837, 171.32156   , 159.47092842,\n",
       "       163.38364423, 174.47887244, 172.15748535, 169.81426363,\n",
       "       172.53731549, 172.44467879, 163.89620726, 166.46438352,\n",
       "       163.55710857, 167.17247835, 171.27362088, 175.44787686,\n",
       "       166.66631669, 169.39826384, 167.14598751, 168.08095666,\n",
       "       166.0579518 , 167.55383815, 176.92499809, 169.23850388,\n",
       "       170.45916623, 170.65726372, 166.24476201, 167.6209742 ,\n",
       "       169.59403988, 175.15144829, 172.9298635 , 171.38563586,\n",
       "       171.0457849 , 175.01221546, 171.54507546, 170.43242116,\n",
       "       162.8608856 , 165.98079207, 167.39986691, 169.15864207,\n",
       "       167.68319679, 165.76824398, 173.57307496, 168.38971053,\n",
       "       172.86820851, 177.33930007, 169.50020842, 168.02276797,\n",
       "       171.95129756, 169.78791077, 166.66566386, 170.37564182,\n",
       "       173.58387955, 169.95497402, 184.14698594, 165.47573109,\n",
       "       164.877807  , 171.57910367, 173.01022436, 169.46055216,\n",
       "       168.6326831 , 168.03463669, 171.35081211, 163.30097325,\n",
       "       175.68312607, 176.58846127, 166.96568676, 166.77276204,\n",
       "       172.0861593 , 167.02933776, 167.90781664, 170.09686962,\n",
       "       172.09797443, 169.16433501, 170.15600976, 170.02605161,\n",
       "       166.78883477, 171.92520962, 172.24329898, 170.6391949 ,\n",
       "       167.69782498, 165.58236854, 168.71182529, 166.69698656,\n",
       "       169.73461665, 175.10902915, 170.40455945, 175.71085213,\n",
       "       161.81388676, 168.61566852, 176.0962936 , 172.44916618,\n",
       "       165.3868375 , 167.78385152, 161.63822952, 170.85554577,\n",
       "       173.62570845, 170.62767975, 168.5380022 , 171.86932751,\n",
       "       181.03589283, 168.9111083 , 172.51858529, 177.76809068,\n",
       "       171.49910773, 166.84313017, 175.578545  , 160.46686391,\n",
       "       171.85299776, 171.03108474, 170.44409318, 168.50945077,\n",
       "       164.07893039, 174.10066367, 172.91877808, 169.86317455,\n",
       "       176.69401433, 172.86231958, 168.1619866 , 173.71645346,\n",
       "       167.94965994, 167.72556555, 164.16533398, 171.84923752,\n",
       "       165.80314928, 175.18814364, 170.82091565, 172.8066287 ,\n",
       "       170.13097496, 171.31008994, 172.09872339, 174.73538754,\n",
       "       167.564371  , 172.33820935, 174.15015502, 167.7570308 ,\n",
       "       172.0274378 , 171.67272073, 169.0630306 , 171.6264985 ,\n",
       "       167.14429704, 168.52512833, 168.62095561, 169.46996906,\n",
       "       175.15725345, 171.08867525, 163.36370812, 171.83465821,\n",
       "       169.87000224, 172.12348965, 164.12768469, 171.18838742,\n",
       "       165.88665267, 174.04853792, 176.02565895, 158.68949352,\n",
       "       173.19331212, 170.98269807, 169.56458549, 167.73811647,\n",
       "       168.87811696, 167.05333656, 176.65741493, 166.90343036,\n",
       "       167.23109756, 171.96554593, 169.78778097, 176.54786555,\n",
       "       165.93790714, 167.21087313, 168.93069458, 169.7393203 ,\n",
       "       175.76559565, 167.77236547, 169.33085129, 168.31957791,\n",
       "       172.40854779, 170.01994093, 171.42678829, 170.8221396 ,\n",
       "       169.34331308, 173.09952483, 165.95079479, 169.67121191,\n",
       "       173.45557704, 167.79295895, 165.26369694, 166.71756412,\n",
       "       165.47680757, 167.99142653, 173.7746378 , 171.04614904,\n",
       "       167.56695679, 171.84225571, 167.62085956, 162.39345589,\n",
       "       166.52718352, 169.13488306, 169.82977549, 167.60591264,\n",
       "       171.72795983, 167.23204405, 174.148104  , 161.68506628,\n",
       "       167.51561672, 176.51760237, 169.12454533, 170.45243296,\n",
       "       167.16567578, 171.59076083, 169.22756503, 170.65594658,\n",
       "       171.03320864, 168.65395835, 168.4052948 , 174.40417561,\n",
       "       169.12818458, 172.45767589, 170.39751329, 169.2974716 ,\n",
       "       168.13671018, 166.21289991, 174.44732061, 168.98811824,\n",
       "       172.48483652, 173.01757687, 168.38679029, 169.49210107,\n",
       "       165.87312801, 175.0189841 , 171.20693094, 171.93592787,\n",
       "       171.66714645, 174.03217449, 169.66993149, 169.805206  ,\n",
       "       165.3789575 , 174.86056627, 162.45514483, 163.99276876,\n",
       "       173.85297817, 173.32872372, 161.18251443, 169.75883109,\n",
       "       170.59544846, 172.875095  , 168.98457017, 165.74379274,\n",
       "       163.76716938, 171.36795729, 162.68841067, 168.84620764,\n",
       "       167.16480532, 166.76257092, 163.62728508, 170.33248205,\n",
       "       170.77614515, 168.93906719, 172.6366027 , 171.47455862,\n",
       "       168.53189734, 169.05911671, 173.85731896, 172.78809239,\n",
       "       167.58487803, 166.89804887, 164.71669806, 169.36605125,\n",
       "       171.75457449, 172.97021826, 178.27740971, 166.62341097,\n",
       "       174.1395997 , 172.04876796, 167.8986989 , 173.91110868,\n",
       "       170.37958114, 167.86317162, 169.60760819, 171.30519167,\n",
       "       168.39992826, 175.62936056, 164.72971215, 170.31485318,\n",
       "       169.22442564, 171.37199752, 164.4822677 , 166.7892691 ,\n",
       "       165.2317272 , 167.9016255 , 166.87039792, 172.33197023,\n",
       "       166.61625533, 169.02226334, 166.56085907, 177.42618919,\n",
       "       167.5853702 , 176.20970595, 170.01260262, 170.46667155,\n",
       "       167.47857861, 171.73777937, 168.93577314, 175.18012513,\n",
       "       176.38869201, 171.04998304, 171.42687578, 171.56659092,\n",
       "       164.37674762, 168.97586757, 173.20840684, 168.81800246,\n",
       "       182.36920797, 164.99957864, 169.50787454, 163.15071552,\n",
       "       167.71381977, 179.55657402, 169.82395082, 166.97959011,\n",
       "       177.59650492, 169.28957247, 168.43370235, 174.39167211,\n",
       "       168.75025597, 170.78289743, 167.84163138, 170.7189241 ,\n",
       "       176.72898911, 169.56512112, 177.03283155, 168.45412739,\n",
       "       171.04057174, 170.66560313, 173.78961102, 166.61706391,\n",
       "       175.70495469, 165.5611329 , 166.02869397, 170.18690093,\n",
       "       171.1917788 , 173.06390289, 170.6331894 , 176.47116468,\n",
       "       170.60764277, 172.66610755, 169.0072467 , 172.31216775,\n",
       "       169.81951174, 165.10833931, 171.3033115 , 163.52951239,\n",
       "       164.41364327, 174.19901077, 169.96638331, 178.70114062,\n",
       "       170.0928091 , 174.61628378, 169.86947288, 174.56002127,\n",
       "       175.11136631, 161.95954095, 175.93206654, 172.23642054,\n",
       "       175.28432753, 170.00100874, 176.0901975 , 171.8132433 ,\n",
       "       172.37708797, 171.16449876, 171.20851864, 163.57920146,\n",
       "       175.5974562 , 167.46178723, 171.64359883, 163.01290563,\n",
       "       173.92448941, 170.6151422 , 166.8956039 , 167.49391776,\n",
       "       177.68216508, 172.48006501, 168.48227169, 166.27962418,\n",
       "       166.98953693, 165.40737769, 170.84511231, 169.36831596,\n",
       "       163.32441933, 169.18952775, 176.99452059, 169.82670246,\n",
       "       167.67327963, 177.53448918, 162.22004667, 170.19292938,\n",
       "       171.36146886, 173.34775314, 177.04007211, 173.90425278,\n",
       "       164.18074996, 169.70745547, 178.87199621, 171.76092282,\n",
       "       170.06358207, 167.70806311, 169.84121656, 171.86024502,\n",
       "       173.37583792, 177.99948919, 161.79259035, 171.50496642,\n",
       "       166.58307623, 174.38758516, 171.79787304, 175.06313509,\n",
       "       174.25655305, 172.82351796, 169.3769193 , 165.60517832,\n",
       "       163.34062078, 175.85591853, 173.56727091, 171.75806983,\n",
       "       169.32192502, 172.17297693, 171.01993564, 172.22714147,\n",
       "       168.82966809, 167.12506864, 172.75437807, 167.28296103,\n",
       "       168.5496824 , 173.91047981, 173.40526104, 168.86757794,\n",
       "       164.05568206, 166.35366307, 175.14257771, 172.18742241,\n",
       "       165.81031736, 170.86733356, 166.02516561, 169.46313702,\n",
       "       170.78719549, 167.79748134, 167.95464567, 170.41770003,\n",
       "       167.04554814, 164.93055402, 167.26387911, 165.81360144,\n",
       "       168.72045988, 173.03493566, 171.86973111, 172.79076014,\n",
       "       165.17917917, 170.25445167, 169.09186637, 168.32003956,\n",
       "       172.57032445, 168.71477759, 171.14051909, 173.78142031,\n",
       "       169.90445174, 163.52319624, 168.40893508, 173.25090595,\n",
       "       168.49710006, 169.54478196, 174.46074397, 176.78900763,\n",
       "       167.21317894, 165.68487512, 164.7618462 , 175.67774423,\n",
       "       174.10940662, 170.01701065, 165.09295958, 164.44853254,\n",
       "       169.55162798, 170.84408883, 164.61582587, 170.45689495,\n",
       "       171.53513247, 169.69197296, 167.16510479, 172.92009938,\n",
       "       168.7795737 , 163.31952978, 166.55344768, 172.24677206,\n",
       "       167.34328088, 170.76998306, 169.74519542, 166.79571466,\n",
       "       171.26926357, 169.56248044, 166.32924629, 174.76158349,\n",
       "       171.21803425, 170.15419467, 167.66351322, 169.68889053,\n",
       "       167.05053746, 177.90282269, 174.11350982, 174.23792108,\n",
       "       172.61485477, 176.82469953, 171.93485334, 161.25512451,\n",
       "       170.69389362, 170.26152712, 174.13652642, 167.87514289,\n",
       "       168.97058122, 171.7005656 , 163.04572033, 168.88909266,\n",
       "       173.36656711, 173.01182006, 168.6263296 , 164.45783502,\n",
       "       170.46068141, 178.70702832, 175.3376246 , 168.50913315,\n",
       "       166.45177294, 162.14339899, 160.94951061, 159.87813758,\n",
       "       174.78520937, 167.38454692, 170.3040242 , 164.72015841,\n",
       "       173.83509937, 170.56648553, 171.44049844, 167.65428378,\n",
       "       176.30927235, 171.37896131, 166.98579894, 174.86797666,\n",
       "       164.19562702, 171.88001874, 177.16576847, 170.88531924,\n",
       "       162.82437203, 171.26500476, 175.15843827, 165.10704418,\n",
       "       167.05664089, 177.21350492, 168.76360108, 170.60588757,\n",
       "       170.53365388, 168.00704225, 171.03590312, 169.2234333 ,\n",
       "       162.12992259, 171.11826981, 180.43180417, 171.18390174,\n",
       "       165.95880302, 173.50607315, 171.7908408 , 175.72972213,\n",
       "       171.28888535, 160.06357422, 173.47015332, 164.84225035,\n",
       "       165.93103199, 165.02910453, 173.65361229, 167.22093832,\n",
       "       163.94936683, 169.93748254, 168.45614401, 173.45058927,\n",
       "       171.69948479, 180.77545469, 178.80657458, 174.20582761,\n",
       "       175.83543187, 170.32398523, 169.4680295 , 171.63990564,\n",
       "       171.57409476, 173.60275936, 175.77316338, 164.14319441,\n",
       "       168.97542154, 171.90981359, 170.10307861, 163.28393654,\n",
       "       165.67259718, 168.89935694, 172.24389655, 168.61686383,\n",
       "       170.62630366, 173.65573665, 172.41070869, 174.48635261,\n",
       "       177.59216158, 176.77772087, 172.45370665, 166.88038767,\n",
       "       163.35953463, 165.52905033, 165.70643379, 160.94688974,\n",
       "       168.0650562 , 165.74207648, 169.43313254, 173.05114357,\n",
       "       175.51224979, 171.56579904, 168.32388253, 169.80321635,\n",
       "       172.40148926, 170.07740399, 176.56527948, 176.41580248,\n",
       "       163.98298531, 172.17916428, 168.97753356, 168.36348948,\n",
       "       173.81088368, 175.30449644, 175.99773342, 169.39387387,\n",
       "       164.74718049, 169.93914372, 170.72547169, 168.94919694,\n",
       "       169.15783789, 170.51321464, 166.03862703, 173.73912274,\n",
       "       169.51880177, 176.05230356, 170.49612462, 172.91581728,\n",
       "       165.19009975, 176.57289288, 169.2784428 , 172.14367282,\n",
       "       172.28100637, 170.7183846 , 173.0195387 , 173.39693177,\n",
       "       166.11050439, 173.92273175, 168.92997437, 167.26916971,\n",
       "       162.33279414, 172.66666217, 166.65451663, 172.33182745,\n",
       "       167.23661148, 167.7515668 , 171.75779573, 170.91006825,\n",
       "       168.4846921 , 169.38703019, 167.695852  , 171.83955127,\n",
       "       172.68198159, 170.13112491, 173.05344637, 170.13380934,\n",
       "       168.08504621, 170.45769393, 167.43494781, 168.90258051,\n",
       "       169.54375983, 170.67797702, 172.02150959, 169.97018973,\n",
       "       166.57861934, 170.04489413, 166.66305367, 173.44329944,\n",
       "       166.10159321, 167.91174382, 168.96036325, 173.94617513,\n",
       "       170.84604813, 169.27199552, 171.98788748, 167.2779992 ,\n",
       "       165.41833289, 160.27604397, 169.66134993, 169.17485807,\n",
       "       165.92623223, 170.86336692, 173.30495429, 167.65761573,\n",
       "       176.13270599, 167.35158991, 166.93012797, 171.37484676,\n",
       "       167.71321755, 179.81754638, 167.44033724, 163.65424443,\n",
       "       174.10817002, 161.48357969, 164.82818211, 166.16215384,\n",
       "       170.88601975, 164.01635243, 170.03000403, 178.57358957,\n",
       "       165.86261727, 167.20722036, 171.54462568, 170.83877629,\n",
       "       166.44325517, 170.00872349, 162.60378361, 169.00303481,\n",
       "       175.17584206, 169.804683  , 162.16620689, 166.24278379,\n",
       "       169.10566582, 167.93225058, 167.07331461, 168.66557997,\n",
       "       166.76553099, 166.70952743, 168.57364619, 165.83205097,\n",
       "       164.52023352, 169.53274762, 167.71607084, 170.83987725,\n",
       "       176.60383505, 163.50319217, 173.20580741, 176.31202688,\n",
       "       171.78867637, 167.72269452, 166.53216141, 168.50168303,\n",
       "       171.07875231, 176.60823011, 167.99558254, 169.17327717,\n",
       "       169.28620698, 173.31176106, 172.86908132, 176.6197556 ,\n",
       "       173.95968505, 169.85865387, 167.47465053, 175.39972676,\n",
       "       174.06417076, 170.18728474, 167.28788814, 174.36206862,\n",
       "       169.35108032, 174.5579929 , 174.25722927, 168.47949096,\n",
       "       172.94758382, 171.16927545, 171.05906829, 169.08670428,\n",
       "       172.09050629, 169.7654691 , 162.89412831, 169.88438668,\n",
       "       174.8724669 , 168.37180896, 171.30419298, 165.97660948,\n",
       "       173.70363044, 175.40946244, 174.05795304, 175.23715979,\n",
       "       161.99095426, 168.32687449, 174.18801021, 167.49119008,\n",
       "       173.76838306, 170.36491774, 174.73436869, 170.38916649,\n",
       "       177.67844456, 175.57945208, 167.41682638, 165.28383978,\n",
       "       170.17170598, 159.77245318, 175.80171786, 179.17039035,\n",
       "       174.19873306, 176.35542658, 176.10724698, 168.60928243,\n",
       "       169.02465385, 167.6822879 , 168.41209132, 171.75348628,\n",
       "       171.57318853, 169.49867025, 171.39302505, 175.99067892,\n",
       "       174.57446236, 169.63906554, 177.37220285, 173.39073499,\n",
       "       170.95069312, 169.41904621, 167.54315751, 173.80012494,\n",
       "       174.67068225, 169.96287737, 165.67758167, 174.26968823,\n",
       "       173.67552814, 175.97316935, 170.07334204, 172.2036568 ,\n",
       "       165.30886993, 172.25042559, 174.6192227 , 162.73626089,\n",
       "       166.65876109, 169.42161142, 167.8607638 , 171.16551404,\n",
       "       172.9927607 , 174.06383503, 164.37451081, 174.48062212,\n",
       "       159.90127412, 167.76009343, 174.77921914, 166.70958462,\n",
       "       172.91569681, 163.23175488, 169.09696921, 166.74459574,\n",
       "       171.84252013, 170.67189945, 175.24578485, 172.63147519,\n",
       "       172.32186582, 164.61336766, 171.26744823, 166.15518024,\n",
       "       174.22863489, 169.52709521, 167.94127057, 175.16254809,\n",
       "       176.13599087, 169.47050422, 173.62841322, 167.82933413,\n",
       "       171.68801957, 170.10770635, 170.60708763, 171.43008588,\n",
       "       172.20876075, 166.70371703, 178.93168687, 168.72616505,\n",
       "       176.65937376, 169.76866047, 173.45327007, 171.29985357,\n",
       "       172.50925978, 168.88948331, 165.9490401 , 167.62566416,\n",
       "       172.70573289, 163.18949685, 168.84192141, 163.38203974,\n",
       "       178.33628335, 172.39828499, 166.89169404, 174.17810837,\n",
       "       166.16479088, 159.34580245, 171.18304244, 174.44360673,\n",
       "       170.0527848 , 170.79203727, 164.79337566, 167.93467457,\n",
       "       168.96308592, 176.29607647, 173.18817845, 164.65563221,\n",
       "       169.60456487, 166.84374991, 168.9140191 , 166.07424831])"
      ]
     },
     "execution_count": 3,
     "metadata": {},
     "output_type": "execute_result"
    }
   ],
   "source": [
    "import matplotlib.pyplot as plt   # 导入绘图模块\n",
    "tall = np.random.normal(170, 4, 1000)\n",
    "tall"
   ]
  },
  {
   "cell_type": "code",
   "execution_count": 4,
   "metadata": {},
   "outputs": [
    {
     "data": {
      "image/png": "[encoded data removed]",
      "text/plain": [
       "<Figure size 432x288 with 1 Axes>"
      ]
     },
     "metadata": {
      "needs_background": "light"
     },
     "output_type": "display_data"
    }
   ],
   "source": [
    "import matplotlib.pyplot as plt   # 导入绘图模块\n",
    "tall = np.random.normal(170, 4, 1000)  # 生成正态分布数据\n",
    "bins = np.arange(156, 190, 2)   # 从156厘米到190厘米，每2厘米一个分段\n",
    "plt.hist(tall, bins)   # 绘出柱状图\n",
    "plt.show()"
   ]
  },
  {
   "cell_type": "code",
   "execution_count": null,
   "metadata": {},
   "outputs": [],
   "source": []
  },
  {
   "cell_type": "markdown",
   "metadata": {},
   "source": [
    "讲到这"
   ]
  },
  {
   "cell_type": "markdown",
   "metadata": {},
   "source": [
    "## 3.2.2 广播特性"
   ]
  },
  {
   "cell_type": "markdown",
   "metadata": {},
   "source": [
    "1、广播是指不同形状的矩阵之间，借助维度相容性从而便捷地进行数值计算的一类特性。\n",
    "最简单的广播特性体现在张量和标量的广播计算上。对于张量和标量的简单四则运算以及赋值运算，会先将标量扩充到与张量相同的尺寸，从而通过NumPy内部高度优化的代码完成计算任务，提升程序的效率。"
   ]
  },
  {
   "cell_type": "code",
   "execution_count": 5,
   "metadata": {},
   "outputs": [
    {
     "name": "stdout",
     "output_type": "stream",
     "text": [
      "[[1 2 3 4]\n",
      " [2 3 4 1]\n",
      " [3 4 1 2]\n",
      " [4 1 2 3]]\n"
     ]
    }
   ],
   "source": [
    "import numpy as np\n",
    "ndarray4 = np.array([[1, 2, 3, 4],[2, 3, 4, 1],[3, 4, 1, 2],[4, 1, 2, 3]])\n",
    "print(ndarray4)"
   ]
  },
  {
   "cell_type": "code",
   "execution_count": null,
   "metadata": {},
   "outputs": [],
   "source": [
    "ndarray4"
   ]
  },
  {
   "cell_type": "code",
   "execution_count": 6,
   "metadata": {},
   "outputs": [
    {
     "data": {
      "text/plain": [
       "array([[6, 7, 8, 9],\n",
       "       [7, 8, 9, 6],\n",
       "       [8, 9, 6, 7],\n",
       "       [9, 6, 7, 8]])"
      ]
     },
     "execution_count": 6,
     "metadata": {},
     "output_type": "execute_result"
    }
   ],
   "source": [
    "ndarray4 = ndarray4 + 5\n",
    "ndarray4"
   ]
  },
  {
   "cell_type": "code",
   "execution_count": 7,
   "metadata": {},
   "outputs": [
    {
     "data": {
      "text/plain": [
       "array([[1, 2, 3, 4],\n",
       "       [2, 3, 4, 1],\n",
       "       [3, 4, 1, 2],\n",
       "       [4, 1, 2, 3]])"
      ]
     },
     "execution_count": 7,
     "metadata": {},
     "output_type": "execute_result"
    }
   ],
   "source": [
    "ndarray4 = ndarray4 - 5\n",
    "ndarray4"
   ]
  },
  {
   "cell_type": "code",
   "execution_count": 8,
   "metadata": {},
   "outputs": [
    {
     "data": {
      "text/plain": [
       "array([[ 5, 10, 15, 20],\n",
       "       [10, 15, 20,  5],\n",
       "       [15, 20,  5, 10],\n",
       "       [20,  5, 10, 15]])"
      ]
     },
     "execution_count": 8,
     "metadata": {},
     "output_type": "execute_result"
    }
   ],
   "source": [
    "ndarray4 = ndarray4 * 5\n",
    "ndarray4"
   ]
  },
  {
   "cell_type": "code",
   "execution_count": 9,
   "metadata": {},
   "outputs": [
    {
     "data": {
      "text/plain": [
       "array([[1., 2., 3., 4.],\n",
       "       [2., 3., 4., 1.],\n",
       "       [3., 4., 1., 2.],\n",
       "       [4., 1., 2., 3.]])"
      ]
     },
     "execution_count": 9,
     "metadata": {},
     "output_type": "execute_result"
    }
   ],
   "source": [
    "ndarray4 = ndarray4 / 5\n",
    "ndarray4"
   ]
  },
  {
   "cell_type": "markdown",
   "metadata": {},
   "source": [
    "2、Numpy所提供的广播操作不仅仅能够对矩阵和张量进行自动广播，而且对于形状相适应的张量和矩阵之间，也能自动广播。"
   ]
  },
  {
   "cell_type": "code",
   "execution_count": 10,
   "metadata": {},
   "outputs": [
    {
     "data": {
      "text/plain": [
       "array([[1., 2., 3., 4.],\n",
       "       [2., 3., 4., 1.],\n",
       "       [3., 4., 1., 2.],\n",
       "       [4., 1., 2., 3.]])"
      ]
     },
     "execution_count": 10,
     "metadata": {},
     "output_type": "execute_result"
    }
   ],
   "source": [
    "ndarray4"
   ]
  },
  {
   "cell_type": "code",
   "execution_count": 11,
   "metadata": {},
   "outputs": [
    {
     "data": {
      "text/plain": [
       "array([[ 1.,  4.,  9., 16.],\n",
       "       [ 2.,  6., 12.,  4.],\n",
       "       [ 3.,  8.,  3.,  8.],\n",
       "       [ 4.,  2.,  6., 12.]])"
      ]
     },
     "execution_count": 11,
     "metadata": {},
     "output_type": "execute_result"
    }
   ],
   "source": [
    "ndarray5 = ndarray4 * [1, 2, 3, 4]  ###第一列*1，第二列*2，第3列*3\n",
    "ndarray5"
   ]
  },
  {
   "cell_type": "markdown",
   "metadata": {},
   "source": [
    "#  3. 对比：数值型数组的各个元素加1\n",
    "\n",
    "Python实现和Numpy实现的比较"
   ]
  },
  {
   "cell_type": "markdown",
   "metadata": {},
   "source": [
    "使用Python列表实现列表的各个元素加1，似乎除了循环就没有更好的办法了。当然，如果想到了用map()函数来实现，说明有扎实的基本功，但这个办法只是避免显式地使用循环，实际处理速度不会比循环更快。"
   ]
  },
  {
   "cell_type": "code",
   "execution_count": 12,
   "metadata": {},
   "outputs": [
    {
     "data": {
      "text/plain": [
       "[1, 2, 3, 4, 5]"
      ]
     },
     "execution_count": 12,
     "metadata": {},
     "output_type": "execute_result"
    }
   ],
   "source": [
    "a = [0, 1, 2, 3, 4]\n",
    "for i in range(len(a)):\n",
    "    a[i] += 1\n",
    "a"
   ]
  },
  {
   "cell_type": "markdown",
   "metadata": {},
   "source": [
    "如果换成NumPy数组，利用其广播特性，无须循环就可以实现对数组每一个元素加1的操作。\n",
    "\n",
    "数组的广播特性，不仅省略了循环结构，更重要的是可以大幅度加快数据的处理速度。\n"
   ]
  },
  {
   "cell_type": "code",
   "execution_count": 13,
   "metadata": {},
   "outputs": [],
   "source": [
    "a = np.array([0, 1, 2, 3, 4])\n",
    "a +=1\n"
   ]
  },
  {
   "cell_type": "code",
   "execution_count": 14,
   "metadata": {},
   "outputs": [
    {
     "data": {
      "text/plain": [
       "array([1, 2, 3, 4, 5])"
      ]
     },
     "execution_count": 14,
     "metadata": {},
     "output_type": "execute_result"
    }
   ],
   "source": [
    "a"
   ]
  },
  {
   "cell_type": "code",
   "execution_count": null,
   "metadata": {},
   "outputs": [],
   "source": []
  },
  {
   "cell_type": "code",
   "execution_count": null,
   "metadata": {},
   "outputs": [],
   "source": []
  },
  {
   "cell_type": "markdown",
   "metadata": {},
   "source": [
    "## 3.2.3 遍历轴\n",
    "\n",
    "\n",
    "创建一个三维数组"
   ]
  },
  {
   "cell_type": "markdown",
   "metadata": {},
   "source": [
    "从这执行，需要\n",
    "import numpy as np"
   ]
  },
  {
   "cell_type": "code",
   "execution_count": 18,
   "metadata": {},
   "outputs": [
    {
     "data": {
      "text/plain": [
       "array([[[2, 7, 7, 2, 8],\n",
       "        [2, 2, 3, 0, 6],\n",
       "        [3, 6, 0, 6, 9],\n",
       "        [2, 9, 1, 9, 9]],\n",
       "\n",
       "       [[4, 3, 6, 6, 9],\n",
       "        [6, 3, 4, 3, 8],\n",
       "        [4, 2, 5, 3, 6],\n",
       "        [3, 3, 2, 1, 0]],\n",
       "\n",
       "       [[5, 8, 5, 6, 4],\n",
       "        [7, 7, 8, 3, 6],\n",
       "        [3, 5, 2, 6, 8],\n",
       "        [4, 6, 8, 5, 5]]])"
      ]
     },
     "execution_count": 18,
     "metadata": {},
     "output_type": "execute_result"
    }
   ],
   "source": [
    "a = np.random.randint(0, 10, size=(3, 4, 5))\n",
    "a\n",
    "#随机函数每次执行结果不同。"
   ]
  },
  {
   "cell_type": "code",
   "execution_count": null,
   "metadata": {},
   "outputs": [],
   "source": []
  },
  {
   "cell_type": "markdown",
   "metadata": {},
   "source": [
    "创建了一个（3，4，5）的3维数组，3个可以理解为通道、行和列，通道、行、和列的方向就是轴0，轴1和轴2的方向。\n",
    "3通道的，每个通道4行5列的矩阵。"
   ]
  },
  {
   "attachments": {
    "c431099e-ecdc-498d-8d62-c73216ce0c9d.png": {
     "image/png": "[encoded data removed]"
    }
   },
   "cell_type": "markdown",
   "metadata": {},
   "source": [
    "![image.png](attachment:c431099e-ecdc-498d-8d62-c73216ce0c9d.png)"
   ]
  },
  {
   "cell_type": "markdown",
   "metadata": {},
   "source": [
    "求三维数组不同轴最大值"
   ]
  },
  {
   "cell_type": "code",
   "execution_count": 19,
   "metadata": {},
   "outputs": [
    {
     "data": {
      "text/plain": [
       "array([[5, 8, 7, 6, 9],\n",
       "       [7, 7, 8, 3, 8],\n",
       "       [4, 6, 5, 6, 9],\n",
       "       [4, 9, 8, 9, 9]])"
      ]
     },
     "execution_count": 19,
     "metadata": {},
     "output_type": "execute_result"
    }
   ],
   "source": [
    "np.max(a, axis=0)"
   ]
  },
  {
   "cell_type": "markdown",
   "metadata": {},
   "source": [
    "轴0方向，max(4,5,2)=5;  max(9,6,3)=9;max(4,9,6)=9; max(2,0,4)=4;"
   ]
  },
  {
   "cell_type": "code",
   "execution_count": 20,
   "metadata": {},
   "outputs": [
    {
     "data": {
      "text/plain": [
       "array([[3, 9, 7, 9, 9],\n",
       "       [6, 3, 6, 6, 9],\n",
       "       [7, 8, 8, 6, 8]])"
      ]
     },
     "execution_count": 20,
     "metadata": {},
     "output_type": "execute_result"
    }
   ],
   "source": [
    "np.max(a, axis=1)"
   ]
  },
  {
   "cell_type": "code",
   "execution_count": null,
   "metadata": {},
   "outputs": [],
   "source": [
    "np.max(a, axis=2)"
   ]
  },
  {
   "cell_type": "markdown",
   "metadata": {},
   "source": [
    "## 3.2.4 操作数组=========="
   ]
  },
  {
   "cell_type": "markdown",
   "metadata": {},
   "source": [
    "### 1.查找\n",
    "\n",
    "这里约定查找是返回数组中符合条件的元素的索引号，或返回和数组具有相同结构的布尔型数组， 元素符合条件在布尔型数组中对应True，否则对应False。\n",
    "\n",
    "查找分为最大值和最小值查找、非零元素查找、使用逻辑表达式查找和使用where条件查找这4种方式。"
   ]
  },
  {
   "cell_type": "markdown",
   "metadata": {},
   "source": [
    "1)最大值和最小值查找。\n",
    "\n",
    "下面代码返回数组中最大值和最小值的索引号，如果是多维数组，这个索引号是数组转成一维之后的索引号"
   ]
  },
  {
   "cell_type": "code",
   "execution_count": 21,
   "metadata": {},
   "outputs": [
    {
     "data": {
      "text/plain": [
       "array([[0.40913902, 0.93359295, 0.85003377],\n",
       "       [0.33182427, 0.03827278, 0.68544899]])"
      ]
     },
     "execution_count": 21,
     "metadata": {},
     "output_type": "execute_result"
    }
   ],
   "source": [
    "a = np.random.random((2, 3))\n",
    "a"
   ]
  },
  {
   "cell_type": "code",
   "execution_count": 22,
   "metadata": {},
   "outputs": [
    {
     "data": {
      "text/plain": [
       "1"
      ]
     },
     "execution_count": 22,
     "metadata": {},
     "output_type": "execute_result"
    }
   ],
   "source": [
    "np.argmax(a)    #返回最大值的索引号，从0开始。"
   ]
  },
  {
   "cell_type": "code",
   "execution_count": 23,
   "metadata": {},
   "outputs": [
    {
     "data": {
      "text/plain": [
       "4"
      ]
     },
     "execution_count": 23,
     "metadata": {},
     "output_type": "execute_result"
    }
   ],
   "source": [
    "np.argmin(a)  #返回最小值的索引号，从0开始。"
   ]
  },
  {
   "cell_type": "markdown",
   "metadata": {},
   "source": [
    "2)非零元素查找。\n",
    "\n",
    "下面代码返回数组中非零元素的索引号，返回的结果是一个元组。"
   ]
  },
  {
   "cell_type": "code",
   "execution_count": 28,
   "metadata": {},
   "outputs": [
    {
     "data": {
      "text/plain": [
       "array([1, 1, 0, 1, 0, 1, 1, 0, 0, 1])"
      ]
     },
     "execution_count": 28,
     "metadata": {},
     "output_type": "execute_result"
    }
   ],
   "source": [
    "a = np.random.randint(0,2,10)    #### 0到 2之间，10个元素\n",
    "# 创建一个含有0元素的数组\n",
    "a"
   ]
  },
  {
   "cell_type": "code",
   "execution_count": 29,
   "metadata": {},
   "outputs": [
    {
     "data": {
      "text/plain": [
       "(array([0, 1, 3, 5, 6, 9], dtype=int64),)"
      ]
     },
     "execution_count": 29,
     "metadata": {},
     "output_type": "execute_result"
    }
   ],
   "source": [
    "np.nonzero(a)  ####返回非零元素的索引"
   ]
  },
  {
   "cell_type": "markdown",
   "metadata": {},
   "source": [
    "3)使用逻辑表达式查找。\n",
    "\n",
    "返回的结果是一个和原数组结构相同的布尔型数组，元素符合条件在布尔型数组中对应True，否则对应False"
   ]
  },
  {
   "cell_type": "code",
   "execution_count": 30,
   "metadata": {},
   "outputs": [
    {
     "data": {
      "text/plain": [
       "array([[0, 1, 2, 3, 4],\n",
       "       [5, 6, 7, 8, 9]])"
      ]
     },
     "execution_count": 30,
     "metadata": {},
     "output_type": "execute_result"
    }
   ],
   "source": [
    "a = np.arange(10).reshape((2, 5))\n",
    "a"
   ]
  },
  {
   "cell_type": "code",
   "execution_count": 31,
   "metadata": {},
   "outputs": [
    {
     "data": {
      "text/plain": [
       "array([[False, False, False, False,  True],\n",
       "       [ True,  True,  True, False, False]])"
      ]
     },
     "execution_count": 31,
     "metadata": {},
     "output_type": "execute_result"
    }
   ],
   "source": [
    "(a > 3 )&( a < 8 )"
   ]
  },
  {
   "cell_type": "markdown",
   "metadata": {},
   "source": [
    "4)使用where条件查找。\n",
    "\n",
    "np.where() 函数返回数组中满足给定条件的元素的索引号，其结构为元组，元组的第K个元素对应符合条件的元素在数组K轴上的索引号。这句话可以简单理解为，一维数组返回一个元素的元组，二维数组返回两个元素的元组，以此类推。np.where()函数还可以用于替换符合条件的元素。"
   ]
  },
  {
   "cell_type": "code",
   "execution_count": 32,
   "metadata": {},
   "outputs": [
    {
     "data": {
      "text/plain": [
       "array([0, 1, 2, 3, 4, 5, 6, 7, 8, 9])"
      ]
     },
     "execution_count": 32,
     "metadata": {},
     "output_type": "execute_result"
    }
   ],
   "source": [
    "a = np.arange(10)\n",
    "a"
   ]
  },
  {
   "cell_type": "code",
   "execution_count": 33,
   "metadata": {},
   "outputs": [
    {
     "data": {
      "text/plain": [
       "(array([0, 1, 2, 3, 4], dtype=int64),)"
      ]
     },
     "execution_count": 33,
     "metadata": {},
     "output_type": "execute_result"
    }
   ],
   "source": [
    "np.where( a < 5 )"
   ]
  },
  {
   "cell_type": "code",
   "execution_count": 34,
   "metadata": {},
   "outputs": [
    {
     "data": {
      "text/plain": [
       "array([10, 11, 12, 13, 14, 15, 16, 17, 18, 19])"
      ]
     },
     "execution_count": 34,
     "metadata": {},
     "output_type": "execute_result"
    }
   ],
   "source": [
    "b=np.arange(10,20)\n",
    "b"
   ]
  },
  {
   "cell_type": "code",
   "execution_count": 35,
   "metadata": {},
   "outputs": [
    {
     "data": {
      "text/plain": [
       "(array([0, 1, 2], dtype=int64),)"
      ]
     },
     "execution_count": 35,
     "metadata": {},
     "output_type": "execute_result"
    }
   ],
   "source": [
    "np.where( b < 13 )"
   ]
  },
  {
   "cell_type": "markdown",
   "metadata": {},
   "source": [
    "### 2.筛选\n",
    "\n",
    "筛选是返回符合条件的元素。筛选条件有三种表示方式，\n",
    "\n",
    "一是使用np.where()函数返回的Python元组，\n",
    "\n",
    "二是使用逻辑表达式返回的布尔型数组，\n",
    "\n",
    "三是使用整型数组。"
   ]
  },
  {
   "cell_type": "code",
   "execution_count": 36,
   "metadata": {},
   "outputs": [
    {
     "data": {
      "text/plain": [
       "array([[0.80799828, 0.24408574, 0.92924714, 0.37011552],\n",
       "       [0.18405162, 0.55431462, 0.56357129, 0.08680958],\n",
       "       [0.04290124, 0.19901979, 0.42278863, 0.065335  ]])"
      ]
     },
     "execution_count": 36,
     "metadata": {},
     "output_type": "execute_result"
    }
   ],
   "source": [
    "a = np.random.random((3, 4))\n",
    "a"
   ]
  },
  {
   "cell_type": "code",
   "execution_count": 37,
   "metadata": {},
   "outputs": [
    {
     "data": {
      "text/plain": [
       "array([0.80799828, 0.92924714, 0.55431462, 0.56357129])"
      ]
     },
     "execution_count": 37,
     "metadata": {},
     "output_type": "execute_result"
    }
   ],
   "source": [
    "a[np.where( a > 0.5 )]   #返回大于0.5的元素（使用np.where()函数返回的Python元组）"
   ]
  },
  {
   "cell_type": "code",
   "execution_count": 38,
   "metadata": {},
   "outputs": [
    {
     "data": {
      "text/plain": [
       "array([0.37011552, 0.55431462, 0.56357129, 0.42278863])"
      ]
     },
     "execution_count": 38,
     "metadata": {},
     "output_type": "execute_result"
    }
   ],
   "source": [
    "a[( a > 0.3 )&( a < 0.7 )]   #返回大于0.3且小于0.7的元素（使用逻辑表达式返回的布尔型数组）"
   ]
  },
  {
   "cell_type": "markdown",
   "metadata": {},
   "source": [
    "#    一个有意思的应用"
   ]
  },
  {
   "cell_type": "markdown",
   "metadata": {},
   "source": [
    "使用np.where()函数或直接使用逻辑表达式来筛选数组元素，其目的是从数组中筛选出符合条件的元素。那么，使用整型数组来筛选数组元素的用途是什么呢？一个看似不起眼的功能，运用起来其实蕴含着无穷的想象空间。下面用一个例子来演示通过整型数组筛选数组元素的神奇魔法。"
   ]
  },
  {
   "cell_type": "markdown",
   "metadata": {},
   "source": [
    "一般而言，灰度图像每个像素的值域范围是[0,255]。假如用于表现不同灰度的字符集是['', '.', '-', '+', '=', '*', '#', '@'],从 ''到 '@'表示从白到黑的8个灰度等级。需要将每个像素的灰度值分段转换成相应的字符。例如，灰度值小于32的像素用'@'表示, 大于或等于32且小于64的像素用'#'表示，依次类推直至大于或等于224的像素用 ''表示。"
   ]
  },
  {
   "cell_type": "markdown",
   "metadata": {},
   "source": [
    "如何实现图像数组从灰度值到对应字符的转换呢？乍一看，好像只有用循环的方式遍历所有像素才能实现。但是，下面的代码却用“整型数组筛选数组元素”的方法完成了这个转换，代码简洁，而且执行速度也非常快。"
   ]
  },
  {
   "cell_type": "code",
   "execution_count": 39,
   "metadata": {},
   "outputs": [
    {
     "data": {
      "text/plain": [
       "array([[106,  26,  13, 177,   2, 196,  20,  79, 123,  24],\n",
       "       [215, 185, 233, 119,  39,  95,  44, 216,  51, 171],\n",
       "       [101,  16,  14, 250,  30, 106,  68, 188,  28, 155],\n",
       "       [145,  10,  54, 151,  50, 244,  20, 164, 131, 191],\n",
       "       [ 21, 188, 239, 115, 240,  99, 156, 136,   6,   7]], dtype=uint8)"
      ]
     },
     "execution_count": 39,
     "metadata": {},
     "output_type": "execute_result"
    }
   ],
   "source": [
    "img = np.random.randint(0, 256, (5, 10), dtype=np.uint8)\n",
    "img"
   ]
  },
  {
   "cell_type": "code",
   "execution_count": 40,
   "metadata": {},
   "outputs": [
    {
     "data": {
      "text/plain": [
       "array([[3, 0, 0, 5, 0, 6, 0, 2, 3, 0],\n",
       "       [6, 5, 7, 3, 1, 2, 1, 6, 1, 5],\n",
       "       [3, 0, 0, 7, 0, 3, 2, 5, 0, 4],\n",
       "       [4, 0, 1, 4, 1, 7, 0, 5, 4, 5],\n",
       "       [0, 5, 7, 3, 7, 3, 4, 4, 0, 0]], dtype=uint8)"
      ]
     },
     "execution_count": 40,
     "metadata": {},
     "output_type": "execute_result"
    }
   ],
   "source": [
    "img = (img/32).astype(np.uint8)  # 将256级灰度值转为8级灰度值\n",
    "img"
   ]
  },
  {
   "cell_type": "code",
   "execution_count": 41,
   "metadata": {},
   "outputs": [
    {
     "data": {
      "text/plain": [
       "array([['+', '', '', '*', '', '#', '', '-', '+', ''],\n",
       "       ['#', '*', '@', '+', '.', '-', '.', '#', '.', '*'],\n",
       "       ['+', '', '', '@', '', '+', '-', '*', '', '='],\n",
       "       ['=', '', '.', '=', '.', '@', '', '*', '=', '*'],\n",
       "       ['', '*', '@', '+', '@', '+', '=', '=', '', '']], dtype='<U1')"
      ]
     },
     "execution_count": 41,
     "metadata": {},
     "output_type": "execute_result"
    }
   ],
   "source": [
    "chs = np.array(['', '.', '-', '+', '=', '*', '#','@'])  # 灰度字符集\n",
    "chs[img]   # 用整型数组筛选数组元素（我认为这是NumPy最精彩之处！）"
   ]
  },
  {
   "cell_type": "code",
   "execution_count": null,
   "metadata": {},
   "outputs": [],
   "source": []
  },
  {
   "cell_type": "markdown",
   "metadata": {},
   "source": [
    "## 3.2.5 掩码数组============"
   ]
  },
  {
   "cell_type": "markdown",
   "metadata": {},
   "source": [
    "### 1.创建掩码数组\n",
    "\n",
    "numpy.ma子模块通过引入掩码数组提供了一种解决数据缺失或无效问题的安全、便捷的方法。\n",
    "\n",
    "numpy.ma子模块的主体是MaskedArray类，它是numpy.ndarray的派生类，可以把numpy.ma子模块当作ndarray来用，且无须考虑数组的无效值是否会给操作带来无法预知的意外。"
   ]
  },
  {
   "cell_type": "code",
   "execution_count": 42,
   "metadata": {},
   "outputs": [],
   "source": [
    "import numpy as np\n",
    "import numpy.ma as ma"
   ]
  },
  {
   "cell_type": "markdown",
   "metadata": {},
   "source": [
    "1) 由列表生成掩码数组\n",
    "\n",
    "掩码数组子模块的ma.array()函数和NumPy的np.array()函数类似，可以直接将列表生成掩码数组，默认mask参数为False，生成的数组类型为MaskedArray类。数组掩码处理后，无论是查找最大值、最小值、还是计算均值，都不用担心数据是否无效的问题了。"
   ]
  },
  {
   "cell_type": "code",
   "execution_count": 43,
   "metadata": {},
   "outputs": [
    {
     "name": "stdout",
     "output_type": "stream",
     "text": [
      "[0 1 -- 3]\n",
      "<class 'numpy.ma.core.MaskedArray'>\n",
      "0 3 1.3333333333333333\n"
     ]
    }
   ],
   "source": [
    "a = ma.array([0, 1, 2, 3], mask=[0, 0, 1, 0]) # 指定第3个元素无效\n",
    "print(a)\n",
    "print(type(a))\n",
    "print(a.min(), a.max(), a.mean())"
   ]
  },
  {
   "cell_type": "code",
   "execution_count": 44,
   "metadata": {},
   "outputs": [
    {
     "name": "stdout",
     "output_type": "stream",
     "text": [
      "[0 1 2 --]\n",
      "<class 'numpy.ma.core.MaskedArray'>\n",
      "0 2 1.0\n"
     ]
    }
   ],
   "source": [
    "a = ma.array([0, 1, 2, 3], mask=[0, 0, 0, 1]) # 指定第4个元素无效\n",
    "print(a)\n",
    "print(type(a))\n",
    "print(a.min(), a.max(), a.mean())"
   ]
  },
  {
   "cell_type": "markdown",
   "metadata": {},
   "source": [
    "### 2) 对数组中的给定值做掩码处理\n",
    "\n",
    "有时需要将数组中的某个给定值设置为无效掩码，ma.masked_equal()函数则可以实现这个功能。"
   ]
  },
  {
   "cell_type": "code",
   "execution_count": null,
   "metadata": {},
   "outputs": [],
   "source": [
    "a = np.arange(3).repeat(2)\n",
    "a"
   ]
  },
  {
   "cell_type": "code",
   "execution_count": null,
   "metadata": {},
   "outputs": [],
   "source": [
    "ma.masked_equal(a, 1) # 对数组元素1做掩码"
   ]
  },
  {
   "cell_type": "markdown",
   "metadata": {},
   "source": [
    "3) 对数组中符合条件的特定值做掩码处理\n",
    "\n",
    "有时需要将数组中符合条件的某些特定值设置为无效(掩码)，掩码数组子模块提供了若干函新实现条件掩码。这些可能的筛选条件包括大于、大于等于、小于、小于等于、区间内、区回外等6种。下面的代码演示了6种筛选条件对应的6个掩码函数的使用方法。"
   ]
  },
  {
   "cell_type": "code",
   "execution_count": null,
   "metadata": {},
   "outputs": [],
   "source": [
    "a = np.arange(8)   ##产生8个数（8为结束值，不含），0为起点，步长为1，\n",
    "print(ma.masked_greater(a, 4)) # 掩码大于4的元素\n",
    "print(ma.masked_greater_equal(a, 4)) # 掩码大于等于4的元素\n",
    "print( ma.masked_less(a, 4)) # 掩码小于4的元素\n",
    "print(ma.masked_less_equal(a, 4)) # 掩码小于等于4的元素\n",
    "print(ma.masked_inside(a, 2, 5)) # 掩码 [2,5]之间的元素\n",
    "print(ma.masked_outside(a, 2, 5)) # 掩码 [2,5]之外的元素"
   ]
  },
  {
   "cell_type": "code",
   "execution_count": null,
   "metadata": {},
   "outputs": [],
   "source": []
  },
  {
   "cell_type": "markdown",
   "metadata": {},
   "source": [
    "## 3.2.6 常用函数============"
   ]
  },
  {
   "cell_type": "markdown",
   "metadata": {},
   "source": [
    "如果不熟悉NumPy,Python程序员一般都会选择使用math模块来解决数学问题。但实际上NumPy的数学函数比math模块更方便，而且Numpy的数学函数可以广播到数组的每一个元素上，也就是说，如果用np.sqrt() 对数组arr开方，返回的是数组arr中每个元素的平方根组成的新数组。"
   ]
  },
  {
   "cell_type": "markdown",
   "metadata": {},
   "source": [
    "**一元常用函数**  ：数学运算\n",
    "* ceil(x): 向上最接近的整数，参数是 number 或 array\n",
    "* floor(x): 向下最接近的整数，参数是 number 或 array\n",
    "* rint(x): 四舍五入，参数是 number 或 array\n",
    "* negative(x): 元素取反，参数是 number 或 array\n",
    "* abs(x)：元素的绝对值，参数是 number 或 array\n",
    "* square(x)：元素的平方，参数是 number 或 array\n",
    "* aqrt(x)：元素的平方根，参数是 number 或 array\n",
    "* sign(x)：计算各元素的正负号, 1(正数)、0（零）、-1(负数)，参数是 number 或 array\n",
    "* modf(x)：将数组的小数和整数部分以两个独立数组的形式返回，参数是 number 或 array\n",
    "* isnan(x): 判断元素是否为 NaN(Not a Number)，返回bool，参数是 number 或 array"
   ]
  },
  {
   "cell_type": "markdown",
   "metadata": {},
   "source": [
    "**二元常用函数**  ：数组的四则运算与比较运算\n",
    "* add(x, y): 元素相加，x + y，参数是 number 或 array\n",
    "* subtract(x, y): 元素相减，x – y，参数是 number 或 array\n",
    "* multiply(x, y): 元素相乘，x * y，参数是 number 或 array\n",
    "* divide(x, y): 元素相除，x / y，参数是 number 或 array\n",
    "* floor_divide(x, y): 元素相除取整数商(丢弃余数)，x // y，参数是 number 或 array\n",
    "* mod(x, y): 元素求余数，x % y，参数是 number 或 array\n",
    "* power(x, y): 元素求次方，x ** y，参数是 number 或 array\n",
    "* equal(x1, x2 [, y]) : y = x1 == x2 \n",
    "* not_equal(x1, x2 [, y]) : y = x1 != x2 \n",
    "* less(x1, x2, [, y]) : y = x1 < x2 \n",
    "* less_equal(x1, x2, [, y]) : y = x1 <= x2 \n",
    "* greater(x1, x2, [, y]) : y = x1 > x2 \n",
    "* greater_equal(x1, x2, [, y]) : y = x1 >= x2 "
   ]
  },
  {
   "cell_type": "markdown",
   "metadata": {},
   "source": [
    "下面是一些常用数学函数的演示"
   ]
  },
  {
   "cell_type": "code",
   "execution_count": 45,
   "metadata": {},
   "outputs": [],
   "source": [
    "import numpy as np\n",
    "import math"
   ]
  },
  {
   "cell_type": "code",
   "execution_count": 46,
   "metadata": {},
   "outputs": [
    {
     "data": {
      "text/plain": [
       "True"
      ]
     },
     "execution_count": 46,
     "metadata": {},
     "output_type": "execute_result"
    }
   ],
   "source": [
    "math.e == np.e  # 两个模块的自然常数相等"
   ]
  },
  {
   "cell_type": "code",
   "execution_count": 47,
   "metadata": {},
   "outputs": [
    {
     "data": {
      "text/plain": [
       "True"
      ]
     },
     "execution_count": 47,
     "metadata": {},
     "output_type": "execute_result"
    }
   ],
   "source": [
    "math.pi == np.pi  # 两个模块的圆周率相等"
   ]
  },
  {
   "cell_type": "code",
   "execution_count": 48,
   "metadata": {},
   "outputs": [
    {
     "data": {
      "text/plain": [
       "6.0"
      ]
     },
     "execution_count": 48,
     "metadata": {},
     "output_type": "execute_result"
    }
   ],
   "source": [
    "np.ceil(5.3) #向上最接近的整数"
   ]
  },
  {
   "cell_type": "code",
   "execution_count": null,
   "metadata": {},
   "outputs": [],
   "source": [
    "np.ceil(-5.3)"
   ]
  },
  {
   "cell_type": "code",
   "execution_count": null,
   "metadata": {},
   "outputs": [],
   "source": [
    "np.floor(5.8) #向下最接近的整数"
   ]
  },
  {
   "cell_type": "code",
   "execution_count": null,
   "metadata": {},
   "outputs": [],
   "source": [
    "np.floor(-5.8) "
   ]
  },
  {
   "cell_type": "code",
   "execution_count": null,
   "metadata": {},
   "outputs": [],
   "source": [
    "np.around(5.87, 1)   # 四舍五入到指定精度"
   ]
  },
  {
   "cell_type": "code",
   "execution_count": null,
   "metadata": {},
   "outputs": [],
   "source": [
    "np.rint(5.87)  # 四舍五入到最近整数"
   ]
  },
  {
   "cell_type": "code",
   "execution_count": null,
   "metadata": {},
   "outputs": [],
   "source": [
    "np.degrees(np.pi/2)  # 弧度转度"
   ]
  },
  {
   "cell_type": "code",
   "execution_count": null,
   "metadata": {},
   "outputs": [],
   "source": [
    "np.radians(180)      # 度转弧度"
   ]
  },
  {
   "cell_type": "code",
   "execution_count": null,
   "metadata": {},
   "outputs": [],
   "source": [
    "np.hypot(3, 4)    # 求平面上任意两点的距离"
   ]
  },
  {
   "cell_type": "code",
   "execution_count": null,
   "metadata": {},
   "outputs": [],
   "source": [
    "np.power(3, 1/2)  #元素求次方，x ** y"
   ]
  },
  {
   "cell_type": "code",
   "execution_count": null,
   "metadata": {},
   "outputs": [],
   "source": [
    "np.log2(1024)   # 对数"
   ]
  },
  {
   "cell_type": "code",
   "execution_count": null,
   "metadata": {},
   "outputs": [],
   "source": [
    "np.exp(1)   # 指数"
   ]
  },
  {
   "cell_type": "code",
   "execution_count": null,
   "metadata": {},
   "outputs": [],
   "source": [
    "np.sin(np.radians(30))  #先度转弧度，再求正弦值。正弦、余弦函数的周期是2Π"
   ]
  },
  {
   "cell_type": "code",
   "execution_count": null,
   "metadata": {},
   "outputs": [],
   "source": [
    "np.sin(np.radians(150))"
   ]
  },
  {
   "cell_type": "code",
   "execution_count": null,
   "metadata": {},
   "outputs": [],
   "source": [
    "np.degrees(np.arcsin(0.5))  #先反正弦，再求弧度转度。反正弦、反余弦函数的周期是Π"
   ]
  },
  {
   "cell_type": "markdown",
   "metadata": {},
   "source": [
    "函数库不是只针对ndarray数组，是一些通用的函数，对int ，float也可以使用"
   ]
  },
  {
   "cell_type": "markdown",
   "metadata": {},
   "source": [
    "**比较运算**\n",
    "* allclose(a, b[, rtol, atol, equal_nan]) 如果两个数组在容差范围内在元素方面相等，则返回True。\n",
    "* isclose(a, b[, rtol, atol, equal_nan]) 返回一个布尔数组，其中两个数组在容差范围内是元素相等的。\n",
    "* array_equal(a1, a2) 如果两个数组具有相同的形状和元素，则为真，否则为False。\n",
    "* array_equiv(a1, a2) 如果输入数组的形状一致且所有元素相等，则返回True。\n",
    "* greater(x1, x2, /[, out, where, casting, …]) 逐个元素方式返回（x1> x2）的真值。\n",
    "* greater_equal(x1, x2, /[, out, where, …]) 逐个元素方式返回（x1> = x2）的真值。\n",
    "* less(x1, x2, /[, out, where, casting, …]) 逐个元素方式返回\n",
    "* less_equal(x1, x2, /[, out, where, casting, …]) 逐个元素方式返回\n",
    "* equal(x1, x2, /[, out, where, casting, …]) 逐个元素返回（x1 == x2）。\n",
    "* not_equal(x1, x2, /[, out, where, casting, …]) 逐个元素返回 Return (x1 != x2)。\n",
    "\n",
    "**三角函数**\n",
    "* sin(x, /[, out, where, casting, order, …]) 逐个元素运算三角正弦函数。\n",
    "* cos(x, /[, out, where, casting, order, …]) 逐个元素运算三角余弦函数。\n",
    "* tan(x, /[, out, where, casting, order, …]) 逐个元素运算三角正切函数。\n",
    "* arcsin(x, /[, out, where, casting, order, …]) 逐个元素运算三角反正弦函数。\n",
    "* arccos(x, /[, out, where, casting, order, …]) 逐个元素运算三角反余弦函数。\n",
    "* arctan(x, /[, out, where, casting, order, …]) 逐个元素运算三角反正切函数。\n",
    "* hypot(x1, x2, /[, out, where, casting, …]) 给定直角三角形的“腿”，返回它的斜边。\n",
    "* arctan2(x1, x2, /[, out, where, casting, …]) 元素弧切线x1/x2正确选择象限。\n",
    "* degrees(x, /[, out, where, casting, order, …]) 将角度从弧度转换为度数。\n",
    "* radians(x, /[, out, where, casting, order, …]) 将角度从度数转换为弧度。\n",
    "* unwrap(p[, discont, axis]) 通过将值之间的差值更改为2*pi补码来展开。\n",
    "* deg2rad(x, /[, out, where, casting, order, …]) 将角度从度数转换为弧度。\n",
    "* rad2deg(x, /[, out, where, casting, order, …]) 将角度从弧度转换为度数。\n",
    "\n",
    "**求总和, 求乘积, 求差异**\n",
    "* prod(a[, axis, dtype, out, keepdims]) 返回给定轴上的数组元素的乘积。\n",
    "* sum(a[, axis, dtype, out, keepdims]) 给定轴上的数组元素的总和。\n",
    "* nanprod(a[, axis, dtype, out, keepdims]) 返回给定轴上的数组元素的乘积。\n",
    "* nansum(a[, axis, dtype, out, keepdims]) 返回给定轴上的数组元素的总和。\n",
    "* cumprod(a[, axis, dtype, out]) 返回给定轴上元素的累积乘积。\n",
    "* cumsum(a[, axis, dtype, out]) 返回给定轴上元素的累积和。\n",
    "* nancumprod(a[, axis, dtype, out]) 返回给定轴上的数组元素的累积乘积\n",
    "* nancumsum(a[, axis, dtype, out]) 返回给定轴上的数组元素的累积和。\n",
    "* diff(a[, n, axis]) 计算沿给定轴的第n个离散差。\n",
    "* ediff1d(ary[, to_end, to_begin]) 数组的连续元素之间的差异。\n",
    "* gradient(f, varargs, *kwargs) 返回N维数组的渐变。\n",
    "* cross(a, b[, axisa, axisb, axisc, axis]) 返回两个（数组）向量的叉积。\n",
    "* trapz(y[, x, dx, axis]) 沿给定的轴积分使用复合梯形规则运算。\n",
    "\n",
    "**平均数和差异**\n",
    "* median(a[, axis, out, overwrite_input, keepdims]) 沿指定轴计算中值。\n",
    "* average(a[, axis, weights, returned]) 计算沿指定轴的加权平均。\n",
    "* mean(a[, axis, dtype, out, keepdims]) 沿指定的轴计算算术平均值。\n",
    "* std(a[, axis, dtype, out, ddof, keepdims]) 计算沿指定轴的标准偏差。\n",
    "* var(a[, axis, dtype, out, ddof, keepdims]) 计算沿指定轴的方差。\n",
    "* nanmedian(a[, axis, out, overwrite_input, …]) 在忽略NAS的情况下，沿指定的轴计算中值。\n",
    "* nanmean(a[, axis, dtype, out, keepdims]) 计算沿指定轴的算术平均值，忽略NAS。\n",
    "* nanstd(a[, axis, dtype, out, ddof, keepdims]) 计算指定轴上的标准偏差，而忽略NAS。\n",
    "* nanvar(a[, axis, dtype, out, ddof, keepdims]) 计算指定轴上的方差，同时忽略NAS。"
   ]
  },
  {
   "cell_type": "markdown",
   "metadata": {},
   "source": [
    "## 3.2.6 矩阵运算\n",
    "### 矩阵运算在数学、物理学和技术学科中有各种重要应用。\n",
    "\n",
    "### 1.计算两个向量的内积\n",
    "dot()，向量的乘法。默认第一个向量为横向量，第二个向量为纵坐标，相乘为一个标量。"
   ]
  },
  {
   "cell_type": "code",
   "execution_count": null,
   "metadata": {},
   "outputs": [],
   "source": [
    "a = np.array([2,5,9])\n",
    "b = np.array([3,4,4])\n",
    "np.dot(a,b)"
   ]
  },
  {
   "cell_type": "markdown",
   "metadata": {},
   "source": [
    "### 2矩阵乘法\n",
    "matmul()，矩阵乘法，两个矩阵可以相乘的条件为第一个矩阵的列数等于第二个矩阵的行数，矩阵相乘的结果为矩阵。"
   ]
  },
  {
   "cell_type": "code",
   "execution_count": null,
   "metadata": {},
   "outputs": [],
   "source": [
    "a = np.array([[10, 2],[4, 8]])\n",
    "b = np.array([[8, 6],[1, 8]])\n",
    "a"
   ]
  },
  {
   "cell_type": "code",
   "execution_count": null,
   "metadata": {},
   "outputs": [],
   "source": [
    "b"
   ]
  },
  {
   "cell_type": "code",
   "execution_count": null,
   "metadata": {},
   "outputs": [],
   "source": [
    "np.matmul(a, b)"
   ]
  },
  {
   "cell_type": "markdown",
   "metadata": {},
   "source": [
    "### 3矩阵元素乘积\n",
    "multiply()，两个形状相同的矩阵对应位置元素相乘，结果为矩阵。"
   ]
  },
  {
   "cell_type": "code",
   "execution_count": null,
   "metadata": {},
   "outputs": [],
   "source": [
    "a = np.array([[10, 2],[4, 8]])\n",
    "b = np.array([[8, 6],[1, 8]])\n",
    "a"
   ]
  },
  {
   "cell_type": "code",
   "execution_count": null,
   "metadata": {},
   "outputs": [],
   "source": [
    "b"
   ]
  },
  {
   "cell_type": "code",
   "execution_count": null,
   "metadata": {},
   "outputs": [],
   "source": [
    "np.multiply(a, b)"
   ]
  },
  {
   "cell_type": "markdown",
   "metadata": {},
   "source": [
    "### 4计算矩阵元素乘积求和\n",
    "vdot()，两个形状相同的矩阵对应位置元素相乘然后将所有结果加和。"
   ]
  },
  {
   "cell_type": "code",
   "execution_count": null,
   "metadata": {},
   "outputs": [],
   "source": [
    "np.vdot(a, b)"
   ]
  },
  {
   "cell_type": "markdown",
   "metadata": {},
   "source": [
    "### 6计算行列式\n",
    "linalg.det()，计算行列式。"
   ]
  },
  {
   "cell_type": "code",
   "execution_count": null,
   "metadata": {},
   "outputs": [],
   "source": [
    "a = np.array([[10, 2],[4, 8]])\n",
    "a"
   ]
  },
  {
   "cell_type": "code",
   "execution_count": null,
   "metadata": {},
   "outputs": [],
   "source": [
    "np.linalg.det(a)"
   ]
  },
  {
   "cell_type": "markdown",
   "metadata": {},
   "source": [
    "### 7求解线性矩阵方程\n",
    "linalg.solve()，如有一元二次方程组10x+2y=14、4x+8y=20，利用其系数矩阵可以求得x和y的值。"
   ]
  },
  {
   "cell_type": "code",
   "execution_count": null,
   "metadata": {},
   "outputs": [],
   "source": [
    "a = np.array([[10, 2],[4, 8]])\n",
    "b = np.array([14,20])"
   ]
  },
  {
   "cell_type": "code",
   "execution_count": null,
   "metadata": {},
   "outputs": [],
   "source": [
    "a"
   ]
  },
  {
   "cell_type": "code",
   "execution_count": null,
   "metadata": {},
   "outputs": [],
   "source": [
    "b"
   ]
  },
  {
   "cell_type": "code",
   "execution_count": null,
   "metadata": {},
   "outputs": [],
   "source": [
    "z = np.linalg.solve(a, b)  # x为求出的解\n",
    "print(z)"
   ]
  },
  {
   "cell_type": "code",
   "execution_count": null,
   "metadata": {},
   "outputs": [],
   "source": [
    "np.dot(a, z)  # 进行验证"
   ]
  },
  {
   "cell_type": "markdown",
   "metadata": {},
   "source": [
    "### 8计算逆矩阵\n",
    "linalg.inv()，求矩阵对应的逆矩阵，矩阵必须可逆。"
   ]
  },
  {
   "cell_type": "code",
   "execution_count": null,
   "metadata": {},
   "outputs": [],
   "source": [
    "a = np.array([[10, 2],[4, 8]])\n",
    "np.linalg.inv(a)"
   ]
  },
  {
   "cell_type": "markdown",
   "metadata": {},
   "source": [
    "### 9计算特征值和特征向量\n",
    "linalg.eigvals()，求矩阵的特征值，要求矩阵必须为方阵。\n",
    "linalg.eig()，求矩阵的特征值和特征向量，要求矩阵必须为方阵。"
   ]
  },
  {
   "cell_type": "code",
   "execution_count": null,
   "metadata": {},
   "outputs": [],
   "source": [
    "a = np.array([[10, 2],[4, 8]])\n",
    "np.linalg.eigvals(a)  # 输出矩阵的特征值"
   ]
  },
  {
   "cell_type": "code",
   "execution_count": null,
   "metadata": {},
   "outputs": [],
   "source": [
    "c1, c2 = np.linalg.eig(a)  # 输出矩阵的特征值和特征向量\n",
    "c1"
   ]
  },
  {
   "cell_type": "code",
   "execution_count": null,
   "metadata": {},
   "outputs": [],
   "source": [
    "c2"
   ]
  },
  {
   "cell_type": "code",
   "execution_count": null,
   "metadata": {},
   "outputs": [],
   "source": [
    "np.dot(a, c2)  # 验证求得的特征值和特征向量"
   ]
  },
  {
   "cell_type": "code",
   "execution_count": null,
   "metadata": {},
   "outputs": [],
   "source": [
    "c1 * c2 "
   ]
  },
  {
   "cell_type": "markdown",
   "metadata": {},
   "source": [
    "### 10奇异值分解\n",
    "np.linalg.svd()，对矩阵进行奇异值分解，矩阵可以不为方阵。利用求得的U、Sigma和V矩阵可以实现矩阵的降维，来进行数据压缩和去噪。"
   ]
  },
  {
   "cell_type": "code",
   "execution_count": null,
   "metadata": {},
   "outputs": [],
   "source": [
    "D = np.array([[4,3,8],[2,6,8]])\n",
    "D"
   ]
  },
  {
   "cell_type": "code",
   "execution_count": null,
   "metadata": {},
   "outputs": [],
   "source": [
    "U, Sigma, V = np.linalg.svd(D, full_matrices=False)\n",
    "U"
   ]
  },
  {
   "cell_type": "code",
   "execution_count": null,
   "metadata": {},
   "outputs": [],
   "source": [
    "Sigma"
   ]
  },
  {
   "cell_type": "code",
   "execution_count": null,
   "metadata": {},
   "outputs": [],
   "source": [
    "V"
   ]
  },
  {
   "cell_type": "markdown",
   "metadata": {},
   "source": [
    "## 3.2.5 应用案例--图像压缩\n",
    "SVD分解压缩方法\n",
    "\n",
    "首先打开图片door.jfif，使用SVD分解图片，得到矩阵Sigma、U和V\n",
    "\n",
    "Sigma中存储的为奇异值矩阵，取前10个奇异值，同时取U中的前10行，V的前10列，可以获得矩阵new_Sigma、new_U和new_V，这三个矩阵均远小于之前的Sigma、U和V，以此实现图像的压缩。"
   ]
  },
  {
   "cell_type": "code",
   "execution_count": null,
   "metadata": {},
   "outputs": [],
   "source": [
    "import matplotlib.pyplot as plt\n",
    "from PIL import Image\n",
    "\n",
    "door = Image.open('door.jfif').convert('I')\n",
    "plt.imshow(door)\n",
    "plt.show()"
   ]
  },
  {
   "cell_type": "code",
   "execution_count": null,
   "metadata": {},
   "outputs": [],
   "source": [
    "door = np.array(door)\n",
    "U, Sigma, V = np.linalg.svd(door)\n",
    "Sigma_10 = np.mat(np.diag(Sigma[:10]))\n",
    "U = U[:,:10]\n",
    "V = V[:10,:]\n",
    "\n",
    "new_door = U * Sigma_10 * V\n",
    "plt.imshow(new_door,cmap='gray')\n",
    "plt.show()\n",
    "\n",
    "yasuolv = (door.shape[0] * door.shape[1]) / (new_door.shape[0] * 10 + 10 * new_door.shape[1] + 10 * 10)\n",
    "print('压缩率：%.2f'%yasuolv,'%')"
   ]
  },
  {
   "cell_type": "markdown",
   "metadata": {},
   "source": [
    "改变不同奇异值个数，观察压缩效果和压缩率的变化 "
   ]
  },
  {
   "cell_type": "code",
   "execution_count": null,
   "metadata": {},
   "outputs": [],
   "source": [
    "door = np.array(door)\n",
    "U, Sigma, V = np.linalg.svd(door)\n",
    "### n=5,15,20,30,40\n",
    "n=40\n",
    "Sigma_n = np.mat(np.diag(Sigma[:n]))\n",
    "U = U[:,:n]\n",
    "V = V[:n,:]\n",
    "\n",
    "new_door = U * Sigma_n * V\n",
    "plt.imshow(new_door,cmap='gray')\n",
    "plt.show()\n",
    "\n",
    "yasuolv = (door.shape[0] * door.shape[1]) / (new_door.shape[0] * n + n * new_door.shape[1] + n * n)\n",
    "print('压缩率：%.2f'%yasuolv,'%')"
   ]
  }
 ],
 "metadata": {
  "kernelspec": {
   "display_name": "Python 3",
   "language": "python",
   "name": "python3"
  },
  "language_info": {
   "codemirror_mode": {
    "name": "ipython",
    "version": 3
   },
   "file_extension": ".py",
   "mimetype": "text/x-python",
   "name": "python",
   "nbconvert_exporter": "python",
   "pygments_lexer": "ipython3",
   "version": "3.7.3"
  }
 },
 "nbformat": 4,
 "nbformat_minor": 4
}

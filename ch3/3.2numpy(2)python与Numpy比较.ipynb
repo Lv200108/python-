{
 "cells": [
  {
   "cell_type": "markdown",
   "metadata": {},
   "source": [
    "## Numpy与Python的性能谁更强\n",
    "\n",
    "得益于NumPy在底层用C语言优化了数组运算，使得NumPy的执行效率远高于Python中自带的列表。\n",
    "\n",
    "现在对NumPy和Python进行性能测试。使用NumPy和Python分别进行如下操作：先创建2个长度为1000000的一维数组，值为0~99999999，对其中一个数组逐元素求其1.5次方，对另一个数组逐元素求其3.5次方，再对两个数组逐元素求和放入新的一维数组。可以看到NumPy的计算用时是列表的十分之一左右，NumPy高性能得到了验证，所以在进行数量大，运算复杂的数组操作时首推使用NumPy。\n"
   ]
  },
  {
   "cell_type": "code",
   "execution_count": 2,
   "metadata": {},
   "outputs": [],
   "source": [
    "import numpy as np\n",
    "from datetime import datetime\n",
    "\n",
    "def numpy_cal(n):\n",
    "    a_1darray = np.arange(n) ** 1.5\n",
    "    b_1darray = np.arange(n) ** 3.5\n",
    "    c_1darray = a_1darray + b_1darray\n",
    "    return c_1darray\n",
    "\n",
    "def list_cal(n):\n",
    "    a_list = list(range(n))\n",
    "    b_list = list(range(n))\n",
    "    c_list = []\n",
    "    for i in range(len(a_list)):\n",
    "        a_list[i] = a_list[i] ** 1.5\n",
    "        b_list[i] = b_list[i] ** 3.5\n",
    "        c_list.append(a_list[1] + b_list[i])\n",
    "    return b_list"
   ]
  },
  {
   "cell_type": "code",
   "execution_count": 4,
   "metadata": {},
   "outputs": [
    {
     "name": "stdout",
     "output_type": "stream",
     "text": [
      "list计算用时： 0:00:00.778994\n"
     ]
    }
   ],
   "source": [
    "start = datetime.now() # 获取开始时间\n",
    "c = list_cal(1000000)\n",
    "used_time = datetime.now() - start # 获取当前时间并计算用时\n",
    "del c\n",
    "print('list计算用时：', used_time)"
   ]
  },
  {
   "cell_type": "code",
   "execution_count": 5,
   "metadata": {},
   "outputs": [
    {
     "name": "stdout",
     "output_type": "stream",
     "text": [
      "numpy计算用时： 0:00:00.138001\n"
     ]
    }
   ],
   "source": [
    "start = datetime.now()\n",
    "c = numpy_cal(1000000)\n",
    "used_time = datetime.now() - start\n",
    "print('numpy计算用时：',used_time)"
   ]
  }
 ],
 "metadata": {
  "kernelspec": {
   "display_name": "Python 3",
   "language": "python",
   "name": "python3"
  },
  "language_info": {
   "codemirror_mode": {
    "name": "ipython",
    "version": 3
   },
   "file_extension": ".py",
   "mimetype": "text/x-python",
   "name": "python",
   "nbconvert_exporter": "python",
   "pygments_lexer": "ipython3",
   "version": "3.7.3"
  }
 },
 "nbformat": 4,
 "nbformat_minor": 4
}

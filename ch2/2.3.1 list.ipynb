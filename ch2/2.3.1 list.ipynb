{
 "cells": [
  {
   "cell_type": "markdown",
   "metadata": {},
   "source": [
    "##  创建列表"
   ]
  },
  {
   "cell_type": "markdown",
   "metadata": {},
   "source": [
    "创建一个列表，只要把“,”分隔的不同数据项使用”[]”扩起来即可"
   ]
  },
  {
   "cell_type": "code",
   "execution_count": 1,
   "metadata": {},
   "outputs": [],
   "source": [
    "list1 = ['1','2','3','4','5','6','7']"
   ]
  },
  {
   "cell_type": "code",
   "execution_count": 2,
   "metadata": {},
   "outputs": [
    {
     "data": {
      "text/plain": [
       "['1', '2', '3', '4', '5', '6', '7']"
      ]
     },
     "execution_count": 2,
     "metadata": {},
     "output_type": "execute_result"
    }
   ],
   "source": [
    "list1"
   ]
  },
  {
   "cell_type": "code",
   "execution_count": 3,
   "metadata": {},
   "outputs": [
    {
     "data": {
      "text/plain": [
       "[1, 2, 3, 4, 5, 6, 7]"
      ]
     },
     "execution_count": 3,
     "metadata": {},
     "output_type": "execute_result"
    }
   ],
   "source": [
    " list2 = [1,2,3,4,5,6,7]\n",
    "list2"
   ]
  },
  {
   "cell_type": "code",
   "execution_count": 4,
   "metadata": {},
   "outputs": [
    {
     "data": {
      "text/plain": [
       "[1, 2, '3', '4', 5, 6, '7']"
      ]
     },
     "execution_count": 4,
     "metadata": {},
     "output_type": "execute_result"
    }
   ],
   "source": [
    " list3 = [1,2,'3','4',5,6,'7']\n",
    "list3"
   ]
  },
  {
   "cell_type": "markdown",
   "metadata": {},
   "source": [
    "如何从列表中取值 列表中的元素计数方法是从0开始的。 可以检索指定的元素"
   ]
  },
  {
   "cell_type": "code",
   "execution_count": 5,
   "metadata": {},
   "outputs": [
    {
     "data": {
      "text/plain": [
       "['1', '2', '3', '4', '5', '6', '7']"
      ]
     },
     "execution_count": 5,
     "metadata": {},
     "output_type": "execute_result"
    }
   ],
   "source": [
    "list1"
   ]
  },
  {
   "cell_type": "code",
   "execution_count": 6,
   "metadata": {},
   "outputs": [
    {
     "data": {
      "text/plain": [
       "'1'"
      ]
     },
     "execution_count": 6,
     "metadata": {},
     "output_type": "execute_result"
    }
   ],
   "source": [
    "list1[0]"
   ]
  },
  {
   "cell_type": "code",
   "execution_count": 7,
   "metadata": {},
   "outputs": [
    {
     "data": {
      "text/plain": [
       "'4'"
      ]
     },
     "execution_count": 7,
     "metadata": {},
     "output_type": "execute_result"
    }
   ],
   "source": [
    "list1[3]"
   ]
  },
  {
   "cell_type": "markdown",
   "metadata": {},
   "source": [
    "##  创建一个数值递增列表"
   ]
  },
  {
   "cell_type": "markdown",
   "metadata": {},
   "source": [
    "使用range()函数可以创建一个数值递增列表， \n",
    "语法： range(start,end)\n",
    "start,起始元素值 \n",
    "end, 结束元素值 "
   ]
  },
  {
   "cell_type": "code",
   "execution_count": 8,
   "metadata": {},
   "outputs": [
    {
     "data": {
      "text/plain": [
       "range(0, 100)"
      ]
     },
     "execution_count": 8,
     "metadata": {},
     "output_type": "execute_result"
    }
   ],
   "source": [
    "list5=range(100)\n",
    "list5"
   ]
  },
  {
   "cell_type": "code",
   "execution_count": 9,
   "metadata": {},
   "outputs": [
    {
     "data": {
      "text/plain": [
       "range(0, 1000)"
      ]
     },
     "execution_count": 9,
     "metadata": {},
     "output_type": "execute_result"
    }
   ],
   "source": [
    "linshi=range(1000)\n",
    "linshi"
   ]
  },
  {
   "cell_type": "code",
   "execution_count": 10,
   "metadata": {},
   "outputs": [
    {
     "name": "stdout",
     "output_type": "stream",
     "text": [
      "list5的第0个元素值 是【0】\n",
      "list5的第1个元素值 是【1】\n",
      "list5的第2个元素值 是【2】\n",
      "list5的第3个元素值 是【3】\n",
      "list5的第4个元素值 是【4】\n",
      "list5的第5个元素值 是【5】\n",
      "list5的第6个元素值 是【6】\n",
      "list5的第7个元素值 是【7】\n",
      "list5的第8个元素值 是【8】\n",
      "list5的第9个元素值 是【9】\n",
      "list5的第10个元素值 是【10】\n",
      "list5的第11个元素值 是【11】\n",
      "list5的第12个元素值 是【12】\n",
      "list5的第13个元素值 是【13】\n",
      "list5的第14个元素值 是【14】\n",
      "list5的第15个元素值 是【15】\n",
      "list5的第16个元素值 是【16】\n",
      "list5的第17个元素值 是【17】\n",
      "list5的第18个元素值 是【18】\n",
      "list5的第19个元素值 是【19】\n",
      "list5的第20个元素值 是【20】\n",
      "list5的第21个元素值 是【21】\n",
      "list5的第22个元素值 是【22】\n",
      "list5的第23个元素值 是【23】\n",
      "list5的第24个元素值 是【24】\n",
      "list5的第25个元素值 是【25】\n",
      "list5的第26个元素值 是【26】\n",
      "list5的第27个元素值 是【27】\n",
      "list5的第28个元素值 是【28】\n",
      "list5的第29个元素值 是【29】\n",
      "list5的第30个元素值 是【30】\n",
      "list5的第31个元素值 是【31】\n",
      "list5的第32个元素值 是【32】\n",
      "list5的第33个元素值 是【33】\n",
      "list5的第34个元素值 是【34】\n",
      "list5的第35个元素值 是【35】\n",
      "list5的第36个元素值 是【36】\n",
      "list5的第37个元素值 是【37】\n",
      "list5的第38个元素值 是【38】\n",
      "list5的第39个元素值 是【39】\n",
      "list5的第40个元素值 是【40】\n",
      "list5的第41个元素值 是【41】\n",
      "list5的第42个元素值 是【42】\n",
      "list5的第43个元素值 是【43】\n",
      "list5的第44个元素值 是【44】\n",
      "list5的第45个元素值 是【45】\n",
      "list5的第46个元素值 是【46】\n",
      "list5的第47个元素值 是【47】\n",
      "list5的第48个元素值 是【48】\n",
      "list5的第49个元素值 是【49】\n",
      "list5的第50个元素值 是【50】\n",
      "list5的第51个元素值 是【51】\n",
      "list5的第52个元素值 是【52】\n",
      "list5的第53个元素值 是【53】\n",
      "list5的第54个元素值 是【54】\n",
      "list5的第55个元素值 是【55】\n",
      "list5的第56个元素值 是【56】\n",
      "list5的第57个元素值 是【57】\n",
      "list5的第58个元素值 是【58】\n",
      "list5的第59个元素值 是【59】\n",
      "list5的第60个元素值 是【60】\n",
      "list5的第61个元素值 是【61】\n",
      "list5的第62个元素值 是【62】\n",
      "list5的第63个元素值 是【63】\n",
      "list5的第64个元素值 是【64】\n",
      "list5的第65个元素值 是【65】\n",
      "list5的第66个元素值 是【66】\n",
      "list5的第67个元素值 是【67】\n",
      "list5的第68个元素值 是【68】\n",
      "list5的第69个元素值 是【69】\n",
      "list5的第70个元素值 是【70】\n",
      "list5的第71个元素值 是【71】\n",
      "list5的第72个元素值 是【72】\n",
      "list5的第73个元素值 是【73】\n",
      "list5的第74个元素值 是【74】\n",
      "list5的第75个元素值 是【75】\n",
      "list5的第76个元素值 是【76】\n",
      "list5的第77个元素值 是【77】\n",
      "list5的第78个元素值 是【78】\n",
      "list5的第79个元素值 是【79】\n",
      "list5的第80个元素值 是【80】\n",
      "list5的第81个元素值 是【81】\n",
      "list5的第82个元素值 是【82】\n",
      "list5的第83个元素值 是【83】\n",
      "list5的第84个元素值 是【84】\n",
      "list5的第85个元素值 是【85】\n",
      "list5的第86个元素值 是【86】\n",
      "list5的第87个元素值 是【87】\n",
      "list5的第88个元素值 是【88】\n",
      "list5的第89个元素值 是【89】\n",
      "list5的第90个元素值 是【90】\n",
      "list5的第91个元素值 是【91】\n",
      "list5的第92个元素值 是【92】\n",
      "list5的第93个元素值 是【93】\n",
      "list5的第94个元素值 是【94】\n",
      "list5的第95个元素值 是【95】\n",
      "list5的第96个元素值 是【96】\n",
      "list5的第97个元素值 是【97】\n",
      "list5的第98个元素值 是【98】\n",
      "list5的第99个元素值 是【99】\n"
     ]
    }
   ],
   "source": [
    "#显示表中每个元素的值\n",
    "len(list5)\n",
    "for index,value in enumerate(list5):\n",
    "    print(\"list5的第%d个元素值 是【%s】\" %(index,value));\n",
    "#使用 enumerate() 可分别管理“索引值”和“值”。"
   ]
  },
  {
   "cell_type": "code",
   "execution_count": 11,
   "metadata": {},
   "outputs": [
    {
     "name": "stdout",
     "output_type": "stream",
     "text": [
      "索引值为 0 值是 0\n",
      "索引值为 1 值是 1\n",
      "索引值为 2 值是 2\n",
      "索引值为 3 值是 3\n",
      "索引值为 4 值是 4\n",
      "索引值为 5 值是 5\n",
      "索引值为 6 值是 6\n",
      "索引值为 7 值是 7\n",
      "索引值为 8 值是 8\n",
      "索引值为 9 值是 9\n",
      "索引值为 10 值是 10\n",
      "索引值为 11 值是 11\n",
      "索引值为 12 值是 12\n",
      "索引值为 13 值是 13\n",
      "索引值为 14 值是 14\n",
      "索引值为 15 值是 15\n",
      "索引值为 16 值是 16\n",
      "索引值为 17 值是 17\n",
      "索引值为 18 值是 18\n",
      "索引值为 19 值是 19\n",
      "索引值为 20 值是 20\n",
      "索引值为 21 值是 21\n",
      "索引值为 22 值是 22\n",
      "索引值为 23 值是 23\n",
      "索引值为 24 值是 24\n",
      "索引值为 25 值是 25\n",
      "索引值为 26 值是 26\n",
      "索引值为 27 值是 27\n",
      "索引值为 28 值是 28\n",
      "索引值为 29 值是 29\n",
      "索引值为 30 值是 30\n",
      "索引值为 31 值是 31\n",
      "索引值为 32 值是 32\n",
      "索引值为 33 值是 33\n",
      "索引值为 34 值是 34\n",
      "索引值为 35 值是 35\n",
      "索引值为 36 值是 36\n",
      "索引值为 37 值是 37\n",
      "索引值为 38 值是 38\n",
      "索引值为 39 值是 39\n",
      "索引值为 40 值是 40\n",
      "索引值为 41 值是 41\n",
      "索引值为 42 值是 42\n",
      "索引值为 43 值是 43\n",
      "索引值为 44 值是 44\n",
      "索引值为 45 值是 45\n",
      "索引值为 46 值是 46\n",
      "索引值为 47 值是 47\n",
      "索引值为 48 值是 48\n",
      "索引值为 49 值是 49\n",
      "索引值为 50 值是 50\n",
      "索引值为 51 值是 51\n",
      "索引值为 52 值是 52\n",
      "索引值为 53 值是 53\n",
      "索引值为 54 值是 54\n",
      "索引值为 55 值是 55\n",
      "索引值为 56 值是 56\n",
      "索引值为 57 值是 57\n",
      "索引值为 58 值是 58\n",
      "索引值为 59 值是 59\n",
      "索引值为 60 值是 60\n",
      "索引值为 61 值是 61\n",
      "索引值为 62 值是 62\n",
      "索引值为 63 值是 63\n",
      "索引值为 64 值是 64\n",
      "索引值为 65 值是 65\n",
      "索引值为 66 值是 66\n",
      "索引值为 67 值是 67\n",
      "索引值为 68 值是 68\n",
      "索引值为 69 值是 69\n",
      "索引值为 70 值是 70\n",
      "索引值为 71 值是 71\n",
      "索引值为 72 值是 72\n",
      "索引值为 73 值是 73\n",
      "索引值为 74 值是 74\n",
      "索引值为 75 值是 75\n",
      "索引值为 76 值是 76\n",
      "索引值为 77 值是 77\n",
      "索引值为 78 值是 78\n",
      "索引值为 79 值是 79\n",
      "索引值为 80 值是 80\n",
      "索引值为 81 值是 81\n",
      "索引值为 82 值是 82\n",
      "索引值为 83 值是 83\n",
      "索引值为 84 值是 84\n",
      "索引值为 85 值是 85\n",
      "索引值为 86 值是 86\n",
      "索引值为 87 值是 87\n",
      "索引值为 88 值是 88\n",
      "索引值为 89 值是 89\n",
      "索引值为 90 值是 90\n",
      "索引值为 91 值是 91\n",
      "索引值为 92 值是 92\n",
      "索引值为 93 值是 93\n",
      "索引值为 94 值是 94\n",
      "索引值为 95 值是 95\n",
      "索引值为 96 值是 96\n",
      "索引值为 97 值是 97\n",
      "索引值为 98 值是 98\n",
      "索引值为 99 值是 99\n"
     ]
    }
   ],
   "source": [
    "# 另一种方法，使用for循环\n",
    "for i in range(len(list5)):\n",
    "    print(\"索引值为\", i, \"值是\", list5[i])"
   ]
  },
  {
   "cell_type": "code",
   "execution_count": 12,
   "metadata": {},
   "outputs": [
    {
     "name": "stdout",
     "output_type": "stream",
     "text": [
      "list5的第 0 元素值是 0\n",
      "list5的第 1 元素值是 1\n",
      "list5的第 2 元素值是 2\n",
      "list5的第 3 元素值是 3\n",
      "list5的第 4 元素值是 4\n",
      "list5的第 5 元素值是 5\n",
      "list5的第 6 元素值是 6\n",
      "list5的第 7 元素值是 7\n",
      "list5的第 8 元素值是 8\n",
      "list5的第 9 元素值是 9\n",
      "list5的第 10 元素值是 10\n",
      "list5的第 11 元素值是 11\n",
      "list5的第 12 元素值是 12\n",
      "list5的第 13 元素值是 13\n",
      "list5的第 14 元素值是 14\n",
      "list5的第 15 元素值是 15\n",
      "list5的第 16 元素值是 16\n",
      "list5的第 17 元素值是 17\n",
      "list5的第 18 元素值是 18\n",
      "list5的第 19 元素值是 19\n",
      "list5的第 20 元素值是 20\n",
      "list5的第 21 元素值是 21\n",
      "list5的第 22 元素值是 22\n",
      "list5的第 23 元素值是 23\n",
      "list5的第 24 元素值是 24\n",
      "list5的第 25 元素值是 25\n",
      "list5的第 26 元素值是 26\n",
      "list5的第 27 元素值是 27\n",
      "list5的第 28 元素值是 28\n",
      "list5的第 29 元素值是 29\n",
      "list5的第 30 元素值是 30\n",
      "list5的第 31 元素值是 31\n",
      "list5的第 32 元素值是 32\n",
      "list5的第 33 元素值是 33\n",
      "list5的第 34 元素值是 34\n",
      "list5的第 35 元素值是 35\n",
      "list5的第 36 元素值是 36\n",
      "list5的第 37 元素值是 37\n",
      "list5的第 38 元素值是 38\n",
      "list5的第 39 元素值是 39\n",
      "list5的第 40 元素值是 40\n",
      "list5的第 41 元素值是 41\n",
      "list5的第 42 元素值是 42\n",
      "list5的第 43 元素值是 43\n",
      "list5的第 44 元素值是 44\n",
      "list5的第 45 元素值是 45\n",
      "list5的第 46 元素值是 46\n",
      "list5的第 47 元素值是 47\n",
      "list5的第 48 元素值是 48\n",
      "list5的第 49 元素值是 49\n",
      "list5的第 50 元素值是 50\n",
      "list5的第 51 元素值是 51\n",
      "list5的第 52 元素值是 52\n",
      "list5的第 53 元素值是 53\n",
      "list5的第 54 元素值是 54\n",
      "list5的第 55 元素值是 55\n",
      "list5的第 56 元素值是 56\n",
      "list5的第 57 元素值是 57\n",
      "list5的第 58 元素值是 58\n",
      "list5的第 59 元素值是 59\n",
      "list5的第 60 元素值是 60\n",
      "list5的第 61 元素值是 61\n",
      "list5的第 62 元素值是 62\n",
      "list5的第 63 元素值是 63\n",
      "list5的第 64 元素值是 64\n",
      "list5的第 65 元素值是 65\n",
      "list5的第 66 元素值是 66\n",
      "list5的第 67 元素值是 67\n",
      "list5的第 68 元素值是 68\n",
      "list5的第 69 元素值是 69\n",
      "list5的第 70 元素值是 70\n",
      "list5的第 71 元素值是 71\n",
      "list5的第 72 元素值是 72\n",
      "list5的第 73 元素值是 73\n",
      "list5的第 74 元素值是 74\n",
      "list5的第 75 元素值是 75\n",
      "list5的第 76 元素值是 76\n",
      "list5的第 77 元素值是 77\n",
      "list5的第 78 元素值是 78\n",
      "list5的第 79 元素值是 79\n",
      "list5的第 80 元素值是 80\n",
      "list5的第 81 元素值是 81\n",
      "list5的第 82 元素值是 82\n",
      "list5的第 83 元素值是 83\n",
      "list5的第 84 元素值是 84\n",
      "list5的第 85 元素值是 85\n",
      "list5的第 86 元素值是 86\n",
      "list5的第 87 元素值是 87\n",
      "list5的第 88 元素值是 88\n",
      "list5的第 89 元素值是 89\n",
      "list5的第 90 元素值是 90\n",
      "list5的第 91 元素值是 91\n",
      "list5的第 92 元素值是 92\n",
      "list5的第 93 元素值是 93\n",
      "list5的第 94 元素值是 94\n",
      "list5的第 95 元素值是 95\n",
      "list5的第 96 元素值是 96\n",
      "list5的第 97 元素值是 97\n",
      "list5的第 98 元素值是 98\n",
      "list5的第 99 元素值是 99\n"
     ]
    }
   ],
   "source": [
    "#改成上面的显示方式。\n",
    "for i in range(len(list5)):\n",
    "    print(\"list5的第\", i, \"元素值是\", list5[i])\n",
    "#list5的第99个元素值 是【99】"
   ]
  },
  {
   "cell_type": "code",
   "execution_count": null,
   "metadata": {},
   "outputs": [],
   "source": [
    "list5=range(60)\n",
    "list5"
   ]
  },
  {
   "cell_type": "code",
   "execution_count": 13,
   "metadata": {},
   "outputs": [
    {
     "name": "stdout",
     "output_type": "stream",
     "text": [
      "list5的第0个元素值 是【100】\n",
      "list5的第1个元素值 是【101】\n",
      "list5的第2个元素值 是【102】\n",
      "list5的第3个元素值 是【103】\n",
      "list5的第4个元素值 是【104】\n",
      "list5的第5个元素值 是【105】\n",
      "list5的第6个元素值 是【106】\n",
      "list5的第7个元素值 是【107】\n",
      "list5的第8个元素值 是【108】\n",
      "list5的第9个元素值 是【109】\n",
      "list5的第10个元素值 是【110】\n",
      "list5的第11个元素值 是【111】\n",
      "list5的第12个元素值 是【112】\n",
      "list5的第13个元素值 是【113】\n",
      "list5的第14个元素值 是【114】\n",
      "list5的第15个元素值 是【115】\n",
      "list5的第16个元素值 是【116】\n",
      "list5的第17个元素值 是【117】\n",
      "list5的第18个元素值 是【118】\n",
      "list5的第19个元素值 是【119】\n",
      "list5的第20个元素值 是【120】\n",
      "list5的第21个元素值 是【121】\n",
      "list5的第22个元素值 是【122】\n",
      "list5的第23个元素值 是【123】\n",
      "list5的第24个元素值 是【124】\n",
      "list5的第25个元素值 是【125】\n",
      "list5的第26个元素值 是【126】\n",
      "list5的第27个元素值 是【127】\n",
      "list5的第28个元素值 是【128】\n",
      "list5的第29个元素值 是【129】\n",
      "list5的第30个元素值 是【130】\n",
      "list5的第31个元素值 是【131】\n",
      "list5的第32个元素值 是【132】\n",
      "list5的第33个元素值 是【133】\n",
      "list5的第34个元素值 是【134】\n",
      "list5的第35个元素值 是【135】\n",
      "list5的第36个元素值 是【136】\n",
      "list5的第37个元素值 是【137】\n",
      "list5的第38个元素值 是【138】\n",
      "list5的第39个元素值 是【139】\n",
      "list5的第40个元素值 是【140】\n",
      "list5的第41个元素值 是【141】\n",
      "list5的第42个元素值 是【142】\n",
      "list5的第43个元素值 是【143】\n",
      "list5的第44个元素值 是【144】\n",
      "list5的第45个元素值 是【145】\n",
      "list5的第46个元素值 是【146】\n",
      "list5的第47个元素值 是【147】\n",
      "list5的第48个元素值 是【148】\n",
      "list5的第49个元素值 是【149】\n",
      "list5的第50个元素值 是【150】\n",
      "list5的第51个元素值 是【151】\n",
      "list5的第52个元素值 是【152】\n",
      "list5的第53个元素值 是【153】\n",
      "list5的第54个元素值 是【154】\n",
      "list5的第55个元素值 是【155】\n",
      "list5的第56个元素值 是【156】\n",
      "list5的第57个元素值 是【157】\n",
      "list5的第58个元素值 是【158】\n",
      "list5的第59个元素值 是【159】\n",
      "list5的第60个元素值 是【160】\n",
      "list5的第61个元素值 是【161】\n",
      "list5的第62个元素值 是【162】\n",
      "list5的第63个元素值 是【163】\n",
      "list5的第64个元素值 是【164】\n",
      "list5的第65个元素值 是【165】\n",
      "list5的第66个元素值 是【166】\n",
      "list5的第67个元素值 是【167】\n",
      "list5的第68个元素值 是【168】\n",
      "list5的第69个元素值 是【169】\n",
      "list5的第70个元素值 是【170】\n",
      "list5的第71个元素值 是【171】\n",
      "list5的第72个元素值 是【172】\n",
      "list5的第73个元素值 是【173】\n",
      "list5的第74个元素值 是【174】\n",
      "list5的第75个元素值 是【175】\n",
      "list5的第76个元素值 是【176】\n",
      "list5的第77个元素值 是【177】\n",
      "list5的第78个元素值 是【178】\n",
      "list5的第79个元素值 是【179】\n",
      "list5的第80个元素值 是【180】\n",
      "list5的第81个元素值 是【181】\n",
      "list5的第82个元素值 是【182】\n",
      "list5的第83个元素值 是【183】\n",
      "list5的第84个元素值 是【184】\n",
      "list5的第85个元素值 是【185】\n",
      "list5的第86个元素值 是【186】\n",
      "list5的第87个元素值 是【187】\n",
      "list5的第88个元素值 是【188】\n",
      "list5的第89个元素值 是【189】\n",
      "list5的第90个元素值 是【190】\n",
      "list5的第91个元素值 是【191】\n",
      "list5的第92个元素值 是【192】\n",
      "list5的第93个元素值 是【193】\n",
      "list5的第94个元素值 是【194】\n",
      "list5的第95个元素值 是【195】\n",
      "list5的第96个元素值 是【196】\n",
      "list5的第97个元素值 是【197】\n",
      "list5的第98个元素值 是【198】\n",
      "list5的第99个元素值 是【199】\n"
     ]
    }
   ],
   "source": [
    "list5=range(100,200)\n",
    "len(list5)\n",
    "for index,value in enumerate(list5):\n",
    "    print(\"list5的第%d个元素值 是【%s】\" %(index,value));"
   ]
  },
  {
   "cell_type": "markdown",
   "metadata": {},
   "source": [
    "##  添加列表元素"
   ]
  },
  {
   "cell_type": "markdown",
   "metadata": {},
   "source": [
    "append()将一个对象附加到列表末尾"
   ]
  },
  {
   "cell_type": "code",
   "execution_count": 14,
   "metadata": {},
   "outputs": [
    {
     "data": {
      "text/plain": [
       "['1', '2', '3', '4', '5', '6', '7']"
      ]
     },
     "execution_count": 14,
     "metadata": {},
     "output_type": "execute_result"
    }
   ],
   "source": [
    "list1"
   ]
  },
  {
   "cell_type": "code",
   "execution_count": 15,
   "metadata": {},
   "outputs": [
    {
     "data": {
      "text/plain": [
       "['1', '2', '3', '4', '5', '6', '7', '8']"
      ]
     },
     "execution_count": 15,
     "metadata": {},
     "output_type": "execute_result"
    }
   ],
   "source": [
    "list1.append('8')\n",
    "list1"
   ]
  },
  {
   "cell_type": "markdown",
   "metadata": {},
   "source": [
    "insert()将一个对象插入到列表的指定下标前。"
   ]
  },
  {
   "cell_type": "code",
   "execution_count": 16,
   "metadata": {},
   "outputs": [
    {
     "data": {
      "text/plain": [
       "['1', '2', '3', '叁', '4', '5', '6', '7', '8']"
      ]
     },
     "execution_count": 16,
     "metadata": {},
     "output_type": "execute_result"
    }
   ],
   "source": [
    " list1.insert(3,'叁')\n",
    "list1"
   ]
  },
  {
   "cell_type": "markdown",
   "metadata": {},
   "source": [
    "extend()将一个列表附加到另一个列表的末尾。"
   ]
  },
  {
   "cell_type": "code",
   "execution_count": 17,
   "metadata": {},
   "outputs": [
    {
     "data": {
      "text/plain": [
       "[1, 2, 3, 4, 5, 6, 7]"
      ]
     },
     "execution_count": 17,
     "metadata": {},
     "output_type": "execute_result"
    }
   ],
   "source": [
    "list2"
   ]
  },
  {
   "cell_type": "code",
   "execution_count": 18,
   "metadata": {},
   "outputs": [
    {
     "data": {
      "text/plain": [
       "['1', '2', '3', '叁', '4', '5', '6', '7', '8', 1, 2, 3, 4, 5, 6, 7]"
      ]
     },
     "execution_count": 18,
     "metadata": {},
     "output_type": "execute_result"
    }
   ],
   "source": [
    " list1.extend(list2)\n",
    "list1"
   ]
  },
  {
   "cell_type": "markdown",
   "metadata": {},
   "source": [
    "##  获取列表长度"
   ]
  },
  {
   "cell_type": "code",
   "execution_count": 19,
   "metadata": {},
   "outputs": [
    {
     "data": {
      "text/plain": [
       "16"
      ]
     },
     "execution_count": 19,
     "metadata": {},
     "output_type": "execute_result"
    }
   ],
   "source": [
    "len(list1)"
   ]
  },
  {
   "cell_type": "markdown",
   "metadata": {},
   "source": [
    "##  打印列表"
   ]
  },
  {
   "cell_type": "code",
   "execution_count": 20,
   "metadata": {},
   "outputs": [
    {
     "name": "stdout",
     "output_type": "stream",
     "text": [
      "['1', '2', '3', '叁', '4', '5', '6', '7', '8', 1, 2, 3, 4, 5, 6, 7]\n"
     ]
    }
   ],
   "source": [
    "print(list1)"
   ]
  },
  {
   "cell_type": "code",
   "execution_count": 21,
   "metadata": {},
   "outputs": [
    {
     "data": {
      "text/plain": [
       "['1', '2', '3', '叁', '4', '5', '6', '7', '8', 1, 2, 3, 4, 5, 6, 7]"
      ]
     },
     "execution_count": 21,
     "metadata": {},
     "output_type": "execute_result"
    }
   ],
   "source": [
    "list1"
   ]
  },
  {
   "cell_type": "markdown",
   "metadata": {},
   "source": [
    "##  清空列表内容"
   ]
  },
  {
   "cell_type": "markdown",
   "metadata": {},
   "source": [
    "clear()清空列表的内容"
   ]
  },
  {
   "cell_type": "code",
   "execution_count": 22,
   "metadata": {},
   "outputs": [
    {
     "data": {
      "text/plain": [
       "[]"
      ]
     },
     "execution_count": 22,
     "metadata": {},
     "output_type": "execute_result"
    }
   ],
   "source": [
    "list1.clear()\n",
    "list1"
   ]
  },
  {
   "cell_type": "markdown",
   "metadata": {},
   "source": [
    "##  列表排序"
   ]
  },
  {
   "cell_type": "code",
   "execution_count": 23,
   "metadata": {},
   "outputs": [
    {
     "name": "stdout",
     "output_type": "stream",
     "text": [
      "[3, 6, 2, 8, 5]\n"
     ]
    }
   ],
   "source": [
    "list3=[3,6,2,8,5];\n",
    "print(list3)\n"
   ]
  },
  {
   "cell_type": "code",
   "execution_count": 24,
   "metadata": {},
   "outputs": [
    {
     "data": {
      "text/plain": [
       "[2, 3, 5, 6, 8]"
      ]
     },
     "execution_count": 24,
     "metadata": {},
     "output_type": "execute_result"
    }
   ],
   "source": [
    "list3.sort()\n",
    "list3"
   ]
  },
  {
   "cell_type": "markdown",
   "metadata": {},
   "source": [
    "##  逆序"
   ]
  },
  {
   "cell_type": "markdown",
   "metadata": {},
   "source": [
    "reverse()就地逆序列表中的元素"
   ]
  },
  {
   "cell_type": "code",
   "execution_count": 25,
   "metadata": {},
   "outputs": [
    {
     "data": {
      "text/plain": [
       "[1, 2, 3, 4, 5, 6]"
      ]
     },
     "execution_count": 25,
     "metadata": {},
     "output_type": "execute_result"
    }
   ],
   "source": [
    "list4=[1,2,3,4,5,6]\n",
    "list4"
   ]
  },
  {
   "cell_type": "code",
   "execution_count": 26,
   "metadata": {},
   "outputs": [
    {
     "data": {
      "text/plain": [
       "[6, 5, 4, 3, 2, 1]"
      ]
     },
     "execution_count": 26,
     "metadata": {},
     "output_type": "execute_result"
    }
   ],
   "source": [
    "list4.reverse()\n",
    "list4"
   ]
  },
  {
   "cell_type": "markdown",
   "metadata": {},
   "source": [
    "##  列表元素统计"
   ]
  },
  {
   "cell_type": "markdown",
   "metadata": {},
   "source": [
    "count()计算指定元素在列表中的出现次数"
   ]
  },
  {
   "cell_type": "code",
   "execution_count": 27,
   "metadata": {},
   "outputs": [
    {
     "data": {
      "text/plain": [
       "[6, 5, 4, 3, 2, 1]"
      ]
     },
     "execution_count": 27,
     "metadata": {},
     "output_type": "execute_result"
    }
   ],
   "source": [
    "list4"
   ]
  },
  {
   "cell_type": "code",
   "execution_count": 28,
   "metadata": {},
   "outputs": [
    {
     "data": {
      "text/plain": [
       "1"
      ]
     },
     "execution_count": 28,
     "metadata": {},
     "output_type": "execute_result"
    }
   ],
   "source": [
    "list4.count(2)"
   ]
  },
  {
   "cell_type": "code",
   "execution_count": 29,
   "metadata": {},
   "outputs": [
    {
     "data": {
      "text/plain": [
       "0"
      ]
     },
     "execution_count": 29,
     "metadata": {},
     "output_type": "execute_result"
    }
   ],
   "source": [
    "list4.count(8)"
   ]
  },
  {
   "cell_type": "markdown",
   "metadata": {},
   "source": [
    "#  切片"
   ]
  },
  {
   "cell_type": "markdown",
   "metadata": {},
   "source": [
    "可以从列表中取出新列表，这项工作称为切片。\n",
    "\n",
    "在Python中切片用来处理列表的部分元素。\n",
    "\n",
    "创建切片，可指定要使用的第一个元素和最后一个元素的索引。 格式：列表名[start:end]。取出从start到end-1的元素，并返回一个新列表。"
   ]
  },
  {
   "cell_type": "markdown",
   "metadata": {},
   "source": [
    "如果想获得列表中下标a到下标b-1，并且步长为的c的所有元素，对应的切片的操作为list[a:b:c]，如果c为正数，则a必须小于等于b；如果c为负数，则代表从列表中逆序取元素，此时a必须大于等于b。如果不指定步长，第二个“:”可以省略\n"
   ]
  },
  {
   "cell_type": "code",
   "execution_count": 30,
   "metadata": {},
   "outputs": [
    {
     "name": "stdout",
     "output_type": "stream",
     "text": [
      "[1, 2, 3]\n"
     ]
    }
   ],
   "source": [
    "list5=[1,2,3,4,5,6,7,8,9,10]\n",
    "print(list5[0:3])"
   ]
  },
  {
   "cell_type": "code",
   "execution_count": 31,
   "metadata": {},
   "outputs": [
    {
     "name": "stdout",
     "output_type": "stream",
     "text": [
      "[4, 5, 6, 7, 8]\n"
     ]
    }
   ],
   "source": [
    "print(list5[3:8])"
   ]
  },
  {
   "cell_type": "code",
   "execution_count": 32,
   "metadata": {},
   "outputs": [
    {
     "name": "stdout",
     "output_type": "stream",
     "text": [
      "[1, 2, 3, 4, 5]\n"
     ]
    }
   ],
   "source": [
    "print(list5[:5])\n",
    "    "
   ]
  },
  {
   "cell_type": "code",
   "execution_count": 35,
   "metadata": {},
   "outputs": [
    {
     "name": "stdout",
     "output_type": "stream",
     "text": [
      "[1, 2, 3, 4, 5, 6, 7, 8]\n"
     ]
    }
   ],
   "source": [
    "print(list5[:8])"
   ]
  },
  {
   "cell_type": "code",
   "execution_count": 36,
   "metadata": {},
   "outputs": [
    {
     "name": "stdout",
     "output_type": "stream",
     "text": [
      "[4, 5, 6, 7, 8, 9, 10]\n"
     ]
    }
   ],
   "source": [
    "print(list5[3:])"
   ]
  },
  {
   "cell_type": "code",
   "execution_count": 37,
   "metadata": {},
   "outputs": [
    {
     "name": "stdout",
     "output_type": "stream",
     "text": [
      "[4, 5, 6, 7, 8, 9, 10]\n"
     ]
    }
   ],
   "source": [
    "print(list5[3:])\n"
   ]
  },
  {
   "cell_type": "markdown",
   "metadata": {},
   "source": [
    "步长"
   ]
  },
  {
   "cell_type": "code",
   "execution_count": 38,
   "metadata": {},
   "outputs": [
    {
     "name": "stdout",
     "output_type": "stream",
     "text": [
      "[1, 3, 5, 7]\n"
     ]
    }
   ],
   "source": [
    "print(list5[0:8:2])\n"
   ]
  },
  {
   "cell_type": "code",
   "execution_count": 39,
   "metadata": {},
   "outputs": [
    {
     "name": "stdout",
     "output_type": "stream",
     "text": [
      "[1, 4, 7]\n"
     ]
    }
   ],
   "source": [
    "print(list5[0:8:3])"
   ]
  }
 ],
 "metadata": {
  "kernelspec": {
   "display_name": "Python 3",
   "language": "python",
   "name": "python3"
  },
  "language_info": {
   "codemirror_mode": {
    "name": "ipython",
    "version": 3
   },
   "file_extension": ".py",
   "mimetype": "text/x-python",
   "name": "python",
   "nbconvert_exporter": "python",
   "pygments_lexer": "ipython3",
   "version": "3.7.3"
  }
 },
 "nbformat": 4,
 "nbformat_minor": 4
}

{
 "cells": [
  {
   "cell_type": "markdown",
   "metadata": {},
   "source": [
    "程序结构可以分为顺序结构、分支结构和循环结构。\n",
    "\n",
    "顺序结构是自上而下的执行代码块；\n",
    "\n",
    "分支结构是有选择的执行部分代码块；\n",
    "\n",
    "循环结构是循环执行部分代码块。"
   ]
  },
  {
   "cell_type": "markdown",
   "metadata": {},
   "source": [
    "##    Python 中的分支结构主要通过if-elif-else语句实现"
   ]
  },
  {
   "cell_type": "markdown",
   "metadata": {},
   "source": [
    "# 分支的例子\n",
    "实现针对不同输入打印不同的值。\n",
    "\n",
    "例：对输入数字加50后的值如果大于50小于等于125打印-2，如果大于125小于等于150打印-1，如果大于150打印0。\n",
    "分别输入10，80， 120"
   ]
  },
  {
   "cell_type": "code",
   "execution_count": 3,
   "metadata": {},
   "outputs": [
    {
     "name": "stdout",
     "output_type": "stream",
     "text": [
      "请输入一个数字:130\n",
      "sum =  0\n"
     ]
    }
   ],
   "source": [
    "    a = input('请输入一个数字:')\n",
    "    a = float(a)\n",
    "    sum = 50\n",
    "    sum += a\n",
    "    if sum > 150:\n",
    "            sum = 0\n",
    "    elif sum > 125:\n",
    "            sum = -1\n",
    "    else:\n",
    "            sum = -2\n",
    "    print('sum = ', sum)"
   ]
  }
 ],
 "metadata": {
  "kernelspec": {
   "display_name": "Python 3",
   "language": "python",
   "name": "python3"
  },
  "language_info": {
   "codemirror_mode": {
    "name": "ipython",
    "version": 3
   },
   "file_extension": ".py",
   "mimetype": "text/x-python",
   "name": "python",
   "nbconvert_exporter": "python",
   "pygments_lexer": "ipython3",
   "version": "3.7.3"
  }
 },
 "nbformat": 4,
 "nbformat_minor": 4
}

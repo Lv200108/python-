{
 "cells": [
  {
   "cell_type": "markdown",
   "metadata": {},
   "source": [
    "#  三目表达式\n",
    "\n",
    "在C、Java等语言中存在名为三目运算符的工具，有较为简洁的实现。\n",
    "\n",
    "不幸的是在Python语言中并没有三目运算符。 幸好，在Python中有三目运算符的近似实现——三目表达式。\n",
    "\n",
    "实现方法为“变量 = 值1 if 条件 else 值2” 稍微怪异了一点，类似倒装句。\n"
   ]
  },
  {
   "cell_type": "code",
   "execution_count": 2,
   "metadata": {},
   "outputs": [
    {
     "name": "stdout",
     "output_type": "stream",
     "text": [
      "请输入一个数字:6\n",
      "6\n"
     ]
    }
   ],
   "source": [
    "a = int(input('请输入一个数字:'))\n",
    "b = 10 if a > 10 else a\n",
    "print(b)"
   ]
  },
  {
   "cell_type": "markdown",
   "metadata": {},
   "source": [
    "见 PPT 函数、类、模块\n"
   ]
  }
 ],
 "metadata": {
  "kernelspec": {
   "display_name": "Python 3",
   "language": "python",
   "name": "python3"
  },
  "language_info": {
   "codemirror_mode": {
    "name": "ipython",
    "version": 3
   },
   "file_extension": ".py",
   "mimetype": "text/x-python",
   "name": "python",
   "nbconvert_exporter": "python",
   "pygments_lexer": "ipython3",
   "version": "3.7.3"
  }
 },
 "nbformat": 4,
 "nbformat_minor": 4
}
